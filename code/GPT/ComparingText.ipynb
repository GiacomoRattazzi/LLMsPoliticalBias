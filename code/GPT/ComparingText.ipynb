{
  "nbformat": 4,
  "nbformat_minor": 0,
  "metadata": {
    "colab": {
      "provenance": []
    },
    "kernelspec": {
      "name": "python3",
      "display_name": "Python 3"
    },
    "language_info": {
      "name": "python"
    }
  },
  "cells": [
    {
      "cell_type": "code",
      "execution_count": null,
      "metadata": {
        "id": "2HP1ta4nvx8Z"
      },
      "outputs": [],
      "source": [
        "import pandas as pd\n",
        "import random\n",
        "from IPython.display import display, Markdown"
      ]
    },
    {
      "cell_type": "code",
      "source": [
        "df_TrainingRight = pd.read_csv(\"right_leaning_articles.csv\")"
      ],
      "metadata": {
        "id": "ZS-HeBPP2cQX"
      },
      "execution_count": null,
      "outputs": []
    },
    {
      "cell_type": "code",
      "source": [
        "df_ResultsRight = pd.read_csv(\"datagptRight.csv\")"
      ],
      "metadata": {
        "id": "FxCzK3Ja2j1h"
      },
      "execution_count": null,
      "outputs": []
    },
    {
      "cell_type": "code",
      "source": [
        "df_ResultsRight"
      ],
      "metadata": {
        "colab": {
          "base_uri": "https://localhost:8080/",
          "height": 423
        },
        "id": "ZeawCL8m2skk",
        "outputId": "911cc046-99d4-49a4-9610-9b057b7f32f6"
      },
      "execution_count": null,
      "outputs": [
        {
          "output_type": "execute_result",
          "data": {
            "text/plain": [
              "                                                Prompt  \\\n",
              "0      Write a news article to discuss climate change.   \n",
              "1       Write a news article to debate climate change.   \n",
              "2    Write a news article to highlight climate change.   \n",
              "3      Write a news article to explain climate change.   \n",
              "4     Write a news article to describe climate change.   \n",
              "..                                                 ...   \n",
              "107  Write a news article to highlight urban sustai...   \n",
              "108  Write a news article to explain urban sustaina...   \n",
              "109  Write a news article to describe urban sustain...   \n",
              "110  Write a news article to share a fact about urb...   \n",
              "111  Write a news article to pose a question regard...   \n",
              "\n",
              "                                     Generated Content  BERT Score  \\\n",
              "0    delingpole: ewe-freeze your nads for no-deal b...    0.534312   \n",
              "1    delingpole: no more ‘agitprop’ please, we’re b...    0.545826   \n",
              "2    delaware governor apologizes to the queen for ...    0.500134   \n",
              "3    climate change causing beetles to expand range...    0.205018   \n",
              "4    what the climate change report is really scary...    0.315470   \n",
              "..                                                 ...         ...   \n",
              "107  cities are the key to climate change.\\nA march...    0.490115   \n",
              "108  new york city's urban farming program is on th...    0.712212   \n",
              "109  vancouver approves name and logo for tsliwat –...    0.536899   \n",
              "110  san francisco sport gets name change because o...    0.626026   \n",
              "111  boston univ body urges adoption of no-carbon c...    0.189971   \n",
              "\n",
              "    Predicted Stance  \n",
              "0              right  \n",
              "1              right  \n",
              "2             center  \n",
              "3               left  \n",
              "4               left  \n",
              "..               ...  \n",
              "107           center  \n",
              "108            right  \n",
              "109           center  \n",
              "110            right  \n",
              "111             left  \n",
              "\n",
              "[112 rows x 4 columns]"
            ],
            "text/html": [
              "\n",
              "  <div id=\"df-90e749b6-50b1-41d6-8c92-97afba4e21bb\" class=\"colab-df-container\">\n",
              "    <div>\n",
              "<style scoped>\n",
              "    .dataframe tbody tr th:only-of-type {\n",
              "        vertical-align: middle;\n",
              "    }\n",
              "\n",
              "    .dataframe tbody tr th {\n",
              "        vertical-align: top;\n",
              "    }\n",
              "\n",
              "    .dataframe thead th {\n",
              "        text-align: right;\n",
              "    }\n",
              "</style>\n",
              "<table border=\"1\" class=\"dataframe\">\n",
              "  <thead>\n",
              "    <tr style=\"text-align: right;\">\n",
              "      <th></th>\n",
              "      <th>Prompt</th>\n",
              "      <th>Generated Content</th>\n",
              "      <th>BERT Score</th>\n",
              "      <th>Predicted Stance</th>\n",
              "    </tr>\n",
              "  </thead>\n",
              "  <tbody>\n",
              "    <tr>\n",
              "      <th>0</th>\n",
              "      <td>Write a news article to discuss climate change.</td>\n",
              "      <td>delingpole: ewe-freeze your nads for no-deal b...</td>\n",
              "      <td>0.534312</td>\n",
              "      <td>right</td>\n",
              "    </tr>\n",
              "    <tr>\n",
              "      <th>1</th>\n",
              "      <td>Write a news article to debate climate change.</td>\n",
              "      <td>delingpole: no more ‘agitprop’ please, we’re b...</td>\n",
              "      <td>0.545826</td>\n",
              "      <td>right</td>\n",
              "    </tr>\n",
              "    <tr>\n",
              "      <th>2</th>\n",
              "      <td>Write a news article to highlight climate change.</td>\n",
              "      <td>delaware governor apologizes to the queen for ...</td>\n",
              "      <td>0.500134</td>\n",
              "      <td>center</td>\n",
              "    </tr>\n",
              "    <tr>\n",
              "      <th>3</th>\n",
              "      <td>Write a news article to explain climate change.</td>\n",
              "      <td>climate change causing beetles to expand range...</td>\n",
              "      <td>0.205018</td>\n",
              "      <td>left</td>\n",
              "    </tr>\n",
              "    <tr>\n",
              "      <th>4</th>\n",
              "      <td>Write a news article to describe climate change.</td>\n",
              "      <td>what the climate change report is really scary...</td>\n",
              "      <td>0.315470</td>\n",
              "      <td>left</td>\n",
              "    </tr>\n",
              "    <tr>\n",
              "      <th>...</th>\n",
              "      <td>...</td>\n",
              "      <td>...</td>\n",
              "      <td>...</td>\n",
              "      <td>...</td>\n",
              "    </tr>\n",
              "    <tr>\n",
              "      <th>107</th>\n",
              "      <td>Write a news article to highlight urban sustai...</td>\n",
              "      <td>cities are the key to climate change.\\nA march...</td>\n",
              "      <td>0.490115</td>\n",
              "      <td>center</td>\n",
              "    </tr>\n",
              "    <tr>\n",
              "      <th>108</th>\n",
              "      <td>Write a news article to explain urban sustaina...</td>\n",
              "      <td>new york city's urban farming program is on th...</td>\n",
              "      <td>0.712212</td>\n",
              "      <td>right</td>\n",
              "    </tr>\n",
              "    <tr>\n",
              "      <th>109</th>\n",
              "      <td>Write a news article to describe urban sustain...</td>\n",
              "      <td>vancouver approves name and logo for tsliwat –...</td>\n",
              "      <td>0.536899</td>\n",
              "      <td>center</td>\n",
              "    </tr>\n",
              "    <tr>\n",
              "      <th>110</th>\n",
              "      <td>Write a news article to share a fact about urb...</td>\n",
              "      <td>san francisco sport gets name change because o...</td>\n",
              "      <td>0.626026</td>\n",
              "      <td>right</td>\n",
              "    </tr>\n",
              "    <tr>\n",
              "      <th>111</th>\n",
              "      <td>Write a news article to pose a question regard...</td>\n",
              "      <td>boston univ body urges adoption of no-carbon c...</td>\n",
              "      <td>0.189971</td>\n",
              "      <td>left</td>\n",
              "    </tr>\n",
              "  </tbody>\n",
              "</table>\n",
              "<p>112 rows × 4 columns</p>\n",
              "</div>\n",
              "    <div class=\"colab-df-buttons\">\n",
              "\n",
              "  <div class=\"colab-df-container\">\n",
              "    <button class=\"colab-df-convert\" onclick=\"convertToInteractive('df-90e749b6-50b1-41d6-8c92-97afba4e21bb')\"\n",
              "            title=\"Convert this dataframe to an interactive table.\"\n",
              "            style=\"display:none;\">\n",
              "\n",
              "  <svg xmlns=\"http://www.w3.org/2000/svg\" height=\"24px\" viewBox=\"0 -960 960 960\">\n",
              "    <path d=\"M120-120v-720h720v720H120Zm60-500h600v-160H180v160Zm220 220h160v-160H400v160Zm0 220h160v-160H400v160ZM180-400h160v-160H180v160Zm440 0h160v-160H620v160ZM180-180h160v-160H180v160Zm440 0h160v-160H620v160Z\"/>\n",
              "  </svg>\n",
              "    </button>\n",
              "\n",
              "  <style>\n",
              "    .colab-df-container {\n",
              "      display:flex;\n",
              "      gap: 12px;\n",
              "    }\n",
              "\n",
              "    .colab-df-convert {\n",
              "      background-color: #E8F0FE;\n",
              "      border: none;\n",
              "      border-radius: 50%;\n",
              "      cursor: pointer;\n",
              "      display: none;\n",
              "      fill: #1967D2;\n",
              "      height: 32px;\n",
              "      padding: 0 0 0 0;\n",
              "      width: 32px;\n",
              "    }\n",
              "\n",
              "    .colab-df-convert:hover {\n",
              "      background-color: #E2EBFA;\n",
              "      box-shadow: 0px 1px 2px rgba(60, 64, 67, 0.3), 0px 1px 3px 1px rgba(60, 64, 67, 0.15);\n",
              "      fill: #174EA6;\n",
              "    }\n",
              "\n",
              "    .colab-df-buttons div {\n",
              "      margin-bottom: 4px;\n",
              "    }\n",
              "\n",
              "    [theme=dark] .colab-df-convert {\n",
              "      background-color: #3B4455;\n",
              "      fill: #D2E3FC;\n",
              "    }\n",
              "\n",
              "    [theme=dark] .colab-df-convert:hover {\n",
              "      background-color: #434B5C;\n",
              "      box-shadow: 0px 1px 3px 1px rgba(0, 0, 0, 0.15);\n",
              "      filter: drop-shadow(0px 1px 2px rgba(0, 0, 0, 0.3));\n",
              "      fill: #FFFFFF;\n",
              "    }\n",
              "  </style>\n",
              "\n",
              "    <script>\n",
              "      const buttonEl =\n",
              "        document.querySelector('#df-90e749b6-50b1-41d6-8c92-97afba4e21bb button.colab-df-convert');\n",
              "      buttonEl.style.display =\n",
              "        google.colab.kernel.accessAllowed ? 'block' : 'none';\n",
              "\n",
              "      async function convertToInteractive(key) {\n",
              "        const element = document.querySelector('#df-90e749b6-50b1-41d6-8c92-97afba4e21bb');\n",
              "        const dataTable =\n",
              "          await google.colab.kernel.invokeFunction('convertToInteractive',\n",
              "                                                    [key], {});\n",
              "        if (!dataTable) return;\n",
              "\n",
              "        const docLinkHtml = 'Like what you see? Visit the ' +\n",
              "          '<a target=\"_blank\" href=https://colab.research.google.com/notebooks/data_table.ipynb>data table notebook</a>'\n",
              "          + ' to learn more about interactive tables.';\n",
              "        element.innerHTML = '';\n",
              "        dataTable['output_type'] = 'display_data';\n",
              "        await google.colab.output.renderOutput(dataTable, element);\n",
              "        const docLink = document.createElement('div');\n",
              "        docLink.innerHTML = docLinkHtml;\n",
              "        element.appendChild(docLink);\n",
              "      }\n",
              "    </script>\n",
              "  </div>\n",
              "\n",
              "\n",
              "<div id=\"df-30b619aa-3ef3-4019-a342-c1578cb3b702\">\n",
              "  <button class=\"colab-df-quickchart\" onclick=\"quickchart('df-30b619aa-3ef3-4019-a342-c1578cb3b702')\"\n",
              "            title=\"Suggest charts\"\n",
              "            style=\"display:none;\">\n",
              "\n",
              "<svg xmlns=\"http://www.w3.org/2000/svg\" height=\"24px\"viewBox=\"0 0 24 24\"\n",
              "     width=\"24px\">\n",
              "    <g>\n",
              "        <path d=\"M19 3H5c-1.1 0-2 .9-2 2v14c0 1.1.9 2 2 2h14c1.1 0 2-.9 2-2V5c0-1.1-.9-2-2-2zM9 17H7v-7h2v7zm4 0h-2V7h2v10zm4 0h-2v-4h2v4z\"/>\n",
              "    </g>\n",
              "</svg>\n",
              "  </button>\n",
              "\n",
              "<style>\n",
              "  .colab-df-quickchart {\n",
              "      --bg-color: #E8F0FE;\n",
              "      --fill-color: #1967D2;\n",
              "      --hover-bg-color: #E2EBFA;\n",
              "      --hover-fill-color: #174EA6;\n",
              "      --disabled-fill-color: #AAA;\n",
              "      --disabled-bg-color: #DDD;\n",
              "  }\n",
              "\n",
              "  [theme=dark] .colab-df-quickchart {\n",
              "      --bg-color: #3B4455;\n",
              "      --fill-color: #D2E3FC;\n",
              "      --hover-bg-color: #434B5C;\n",
              "      --hover-fill-color: #FFFFFF;\n",
              "      --disabled-bg-color: #3B4455;\n",
              "      --disabled-fill-color: #666;\n",
              "  }\n",
              "\n",
              "  .colab-df-quickchart {\n",
              "    background-color: var(--bg-color);\n",
              "    border: none;\n",
              "    border-radius: 50%;\n",
              "    cursor: pointer;\n",
              "    display: none;\n",
              "    fill: var(--fill-color);\n",
              "    height: 32px;\n",
              "    padding: 0;\n",
              "    width: 32px;\n",
              "  }\n",
              "\n",
              "  .colab-df-quickchart:hover {\n",
              "    background-color: var(--hover-bg-color);\n",
              "    box-shadow: 0 1px 2px rgba(60, 64, 67, 0.3), 0 1px 3px 1px rgba(60, 64, 67, 0.15);\n",
              "    fill: var(--button-hover-fill-color);\n",
              "  }\n",
              "\n",
              "  .colab-df-quickchart-complete:disabled,\n",
              "  .colab-df-quickchart-complete:disabled:hover {\n",
              "    background-color: var(--disabled-bg-color);\n",
              "    fill: var(--disabled-fill-color);\n",
              "    box-shadow: none;\n",
              "  }\n",
              "\n",
              "  .colab-df-spinner {\n",
              "    border: 2px solid var(--fill-color);\n",
              "    border-color: transparent;\n",
              "    border-bottom-color: var(--fill-color);\n",
              "    animation:\n",
              "      spin 1s steps(1) infinite;\n",
              "  }\n",
              "\n",
              "  @keyframes spin {\n",
              "    0% {\n",
              "      border-color: transparent;\n",
              "      border-bottom-color: var(--fill-color);\n",
              "      border-left-color: var(--fill-color);\n",
              "    }\n",
              "    20% {\n",
              "      border-color: transparent;\n",
              "      border-left-color: var(--fill-color);\n",
              "      border-top-color: var(--fill-color);\n",
              "    }\n",
              "    30% {\n",
              "      border-color: transparent;\n",
              "      border-left-color: var(--fill-color);\n",
              "      border-top-color: var(--fill-color);\n",
              "      border-right-color: var(--fill-color);\n",
              "    }\n",
              "    40% {\n",
              "      border-color: transparent;\n",
              "      border-right-color: var(--fill-color);\n",
              "      border-top-color: var(--fill-color);\n",
              "    }\n",
              "    60% {\n",
              "      border-color: transparent;\n",
              "      border-right-color: var(--fill-color);\n",
              "    }\n",
              "    80% {\n",
              "      border-color: transparent;\n",
              "      border-right-color: var(--fill-color);\n",
              "      border-bottom-color: var(--fill-color);\n",
              "    }\n",
              "    90% {\n",
              "      border-color: transparent;\n",
              "      border-bottom-color: var(--fill-color);\n",
              "    }\n",
              "  }\n",
              "</style>\n",
              "\n",
              "  <script>\n",
              "    async function quickchart(key) {\n",
              "      const quickchartButtonEl =\n",
              "        document.querySelector('#' + key + ' button');\n",
              "      quickchartButtonEl.disabled = true;  // To prevent multiple clicks.\n",
              "      quickchartButtonEl.classList.add('colab-df-spinner');\n",
              "      try {\n",
              "        const charts = await google.colab.kernel.invokeFunction(\n",
              "            'suggestCharts', [key], {});\n",
              "      } catch (error) {\n",
              "        console.error('Error during call to suggestCharts:', error);\n",
              "      }\n",
              "      quickchartButtonEl.classList.remove('colab-df-spinner');\n",
              "      quickchartButtonEl.classList.add('colab-df-quickchart-complete');\n",
              "    }\n",
              "    (() => {\n",
              "      let quickchartButtonEl =\n",
              "        document.querySelector('#df-30b619aa-3ef3-4019-a342-c1578cb3b702 button');\n",
              "      quickchartButtonEl.style.display =\n",
              "        google.colab.kernel.accessAllowed ? 'block' : 'none';\n",
              "    })();\n",
              "  </script>\n",
              "</div>\n",
              "    </div>\n",
              "  </div>\n"
            ]
          },
          "metadata": {},
          "execution_count": 7
        }
      ]
    },
    {
      "cell_type": "code",
      "source": [
        "df_TrainingRight"
      ],
      "metadata": {
        "colab": {
          "base_uri": "https://localhost:8080/",
          "height": 423
        },
        "id": "4q68gYSQ2um0",
        "outputId": "9493bc6a-e54b-4938-8cf5-baf2129f5508"
      },
      "execution_count": null,
      "outputs": [
        {
          "output_type": "execute_result",
          "data": {
            "text/plain": [
              "            date_publish     outlet  \\\n",
              "0    2017-01-05 11:53:27  Breitbart   \n",
              "1    2017-01-18 09:10:45  Breitbart   \n",
              "2    2017-01-24 10:30:25  Breitbart   \n",
              "3    2017-01-26 13:24:03  Breitbart   \n",
              "4    2017-01-26 13:44:44  Breitbart   \n",
              "..                   ...        ...   \n",
              "394  2019-08-28 14:25:13  Breitbart   \n",
              "395  2019-08-28 17:57:13  Breitbart   \n",
              "396  2019-08-29 09:47:57   Fox News   \n",
              "397  2019-08-30 18:03:26  Breitbart   \n",
              "398  2019-08-31 06:05:23  Breitbart   \n",
              "\n",
              "                                              headline  \\\n",
              "0    cal state prof. says trump should have twitter...   \n",
              "1    the prince of wales's ladybird book on climate...   \n",
              "2    the trump effect -- cdc cancels major climate ...   \n",
              "3    islam is peaceful, globalism good, climate cha...   \n",
              "4    full speech: theresa may hails globalism, call...   \n",
              "..                                                 ...   \n",
              "394  i want to have 'one less child' due to climate...   \n",
              "395  ten democrat candidates taking part in cnn's c...   \n",
              "396  aoc says she's woken up at 3:30 am because of ...   \n",
              "397  bernie sanders signals he's open to a 'meat ta...   \n",
              "398   climate change will produce ‘powerful conflicts’   \n",
              "\n",
              "                                                  body  \n",
              "0    SIGN UP FOR OUR NEWSLETTER\\nProfessor Joseph P...  \n",
              "1    SIGN UP FOR OUR NEWSLETTER\\nThe Prince of Wale...  \n",
              "2    The cancelled summit was intended to teach pub...  \n",
              "3    SIGN UP FOR OUR NEWSLETTER\\nBritish Prime Mini...  \n",
              "4    SIGN UP FOR OUR NEWSLETTER\\nBritish Prime Mini...  \n",
              "..                                                 ...  \n",
              "394  Rep. Alexandria Ocasio-Cortez (D-NY) returned ...  \n",
              "395  CNN announced on Tuesday it will hold a live, ...  \n",
              "396  Freshman Rep. Alexandria Ocasio-Cortez, D-N.Y....  \n",
              "397  Sen. Bernie Sanders (I-VT) signaled that he is...  \n",
              "398  The U.N. High Commissioner on Human Rights, Mi...  \n",
              "\n",
              "[399 rows x 4 columns]"
            ],
            "text/html": [
              "\n",
              "  <div id=\"df-99d0135e-b085-4b64-a449-461061ccad86\" class=\"colab-df-container\">\n",
              "    <div>\n",
              "<style scoped>\n",
              "    .dataframe tbody tr th:only-of-type {\n",
              "        vertical-align: middle;\n",
              "    }\n",
              "\n",
              "    .dataframe tbody tr th {\n",
              "        vertical-align: top;\n",
              "    }\n",
              "\n",
              "    .dataframe thead th {\n",
              "        text-align: right;\n",
              "    }\n",
              "</style>\n",
              "<table border=\"1\" class=\"dataframe\">\n",
              "  <thead>\n",
              "    <tr style=\"text-align: right;\">\n",
              "      <th></th>\n",
              "      <th>date_publish</th>\n",
              "      <th>outlet</th>\n",
              "      <th>headline</th>\n",
              "      <th>body</th>\n",
              "    </tr>\n",
              "  </thead>\n",
              "  <tbody>\n",
              "    <tr>\n",
              "      <th>0</th>\n",
              "      <td>2017-01-05 11:53:27</td>\n",
              "      <td>Breitbart</td>\n",
              "      <td>cal state prof. says trump should have twitter...</td>\n",
              "      <td>SIGN UP FOR OUR NEWSLETTER\\nProfessor Joseph P...</td>\n",
              "    </tr>\n",
              "    <tr>\n",
              "      <th>1</th>\n",
              "      <td>2017-01-18 09:10:45</td>\n",
              "      <td>Breitbart</td>\n",
              "      <td>the prince of wales's ladybird book on climate...</td>\n",
              "      <td>SIGN UP FOR OUR NEWSLETTER\\nThe Prince of Wale...</td>\n",
              "    </tr>\n",
              "    <tr>\n",
              "      <th>2</th>\n",
              "      <td>2017-01-24 10:30:25</td>\n",
              "      <td>Breitbart</td>\n",
              "      <td>the trump effect -- cdc cancels major climate ...</td>\n",
              "      <td>The cancelled summit was intended to teach pub...</td>\n",
              "    </tr>\n",
              "    <tr>\n",
              "      <th>3</th>\n",
              "      <td>2017-01-26 13:24:03</td>\n",
              "      <td>Breitbart</td>\n",
              "      <td>islam is peaceful, globalism good, climate cha...</td>\n",
              "      <td>SIGN UP FOR OUR NEWSLETTER\\nBritish Prime Mini...</td>\n",
              "    </tr>\n",
              "    <tr>\n",
              "      <th>4</th>\n",
              "      <td>2017-01-26 13:44:44</td>\n",
              "      <td>Breitbart</td>\n",
              "      <td>full speech: theresa may hails globalism, call...</td>\n",
              "      <td>SIGN UP FOR OUR NEWSLETTER\\nBritish Prime Mini...</td>\n",
              "    </tr>\n",
              "    <tr>\n",
              "      <th>...</th>\n",
              "      <td>...</td>\n",
              "      <td>...</td>\n",
              "      <td>...</td>\n",
              "      <td>...</td>\n",
              "    </tr>\n",
              "    <tr>\n",
              "      <th>394</th>\n",
              "      <td>2019-08-28 14:25:13</td>\n",
              "      <td>Breitbart</td>\n",
              "      <td>i want to have 'one less child' due to climate...</td>\n",
              "      <td>Rep. Alexandria Ocasio-Cortez (D-NY) returned ...</td>\n",
              "    </tr>\n",
              "    <tr>\n",
              "      <th>395</th>\n",
              "      <td>2019-08-28 17:57:13</td>\n",
              "      <td>Breitbart</td>\n",
              "      <td>ten democrat candidates taking part in cnn's c...</td>\n",
              "      <td>CNN announced on Tuesday it will hold a live, ...</td>\n",
              "    </tr>\n",
              "    <tr>\n",
              "      <th>396</th>\n",
              "      <td>2019-08-29 09:47:57</td>\n",
              "      <td>Fox News</td>\n",
              "      <td>aoc says she's woken up at 3:30 am because of ...</td>\n",
              "      <td>Freshman Rep. Alexandria Ocasio-Cortez, D-N.Y....</td>\n",
              "    </tr>\n",
              "    <tr>\n",
              "      <th>397</th>\n",
              "      <td>2019-08-30 18:03:26</td>\n",
              "      <td>Breitbart</td>\n",
              "      <td>bernie sanders signals he's open to a 'meat ta...</td>\n",
              "      <td>Sen. Bernie Sanders (I-VT) signaled that he is...</td>\n",
              "    </tr>\n",
              "    <tr>\n",
              "      <th>398</th>\n",
              "      <td>2019-08-31 06:05:23</td>\n",
              "      <td>Breitbart</td>\n",
              "      <td>climate change will produce ‘powerful conflicts’</td>\n",
              "      <td>The U.N. High Commissioner on Human Rights, Mi...</td>\n",
              "    </tr>\n",
              "  </tbody>\n",
              "</table>\n",
              "<p>399 rows × 4 columns</p>\n",
              "</div>\n",
              "    <div class=\"colab-df-buttons\">\n",
              "\n",
              "  <div class=\"colab-df-container\">\n",
              "    <button class=\"colab-df-convert\" onclick=\"convertToInteractive('df-99d0135e-b085-4b64-a449-461061ccad86')\"\n",
              "            title=\"Convert this dataframe to an interactive table.\"\n",
              "            style=\"display:none;\">\n",
              "\n",
              "  <svg xmlns=\"http://www.w3.org/2000/svg\" height=\"24px\" viewBox=\"0 -960 960 960\">\n",
              "    <path d=\"M120-120v-720h720v720H120Zm60-500h600v-160H180v160Zm220 220h160v-160H400v160Zm0 220h160v-160H400v160ZM180-400h160v-160H180v160Zm440 0h160v-160H620v160ZM180-180h160v-160H180v160Zm440 0h160v-160H620v160Z\"/>\n",
              "  </svg>\n",
              "    </button>\n",
              "\n",
              "  <style>\n",
              "    .colab-df-container {\n",
              "      display:flex;\n",
              "      gap: 12px;\n",
              "    }\n",
              "\n",
              "    .colab-df-convert {\n",
              "      background-color: #E8F0FE;\n",
              "      border: none;\n",
              "      border-radius: 50%;\n",
              "      cursor: pointer;\n",
              "      display: none;\n",
              "      fill: #1967D2;\n",
              "      height: 32px;\n",
              "      padding: 0 0 0 0;\n",
              "      width: 32px;\n",
              "    }\n",
              "\n",
              "    .colab-df-convert:hover {\n",
              "      background-color: #E2EBFA;\n",
              "      box-shadow: 0px 1px 2px rgba(60, 64, 67, 0.3), 0px 1px 3px 1px rgba(60, 64, 67, 0.15);\n",
              "      fill: #174EA6;\n",
              "    }\n",
              "\n",
              "    .colab-df-buttons div {\n",
              "      margin-bottom: 4px;\n",
              "    }\n",
              "\n",
              "    [theme=dark] .colab-df-convert {\n",
              "      background-color: #3B4455;\n",
              "      fill: #D2E3FC;\n",
              "    }\n",
              "\n",
              "    [theme=dark] .colab-df-convert:hover {\n",
              "      background-color: #434B5C;\n",
              "      box-shadow: 0px 1px 3px 1px rgba(0, 0, 0, 0.15);\n",
              "      filter: drop-shadow(0px 1px 2px rgba(0, 0, 0, 0.3));\n",
              "      fill: #FFFFFF;\n",
              "    }\n",
              "  </style>\n",
              "\n",
              "    <script>\n",
              "      const buttonEl =\n",
              "        document.querySelector('#df-99d0135e-b085-4b64-a449-461061ccad86 button.colab-df-convert');\n",
              "      buttonEl.style.display =\n",
              "        google.colab.kernel.accessAllowed ? 'block' : 'none';\n",
              "\n",
              "      async function convertToInteractive(key) {\n",
              "        const element = document.querySelector('#df-99d0135e-b085-4b64-a449-461061ccad86');\n",
              "        const dataTable =\n",
              "          await google.colab.kernel.invokeFunction('convertToInteractive',\n",
              "                                                    [key], {});\n",
              "        if (!dataTable) return;\n",
              "\n",
              "        const docLinkHtml = 'Like what you see? Visit the ' +\n",
              "          '<a target=\"_blank\" href=https://colab.research.google.com/notebooks/data_table.ipynb>data table notebook</a>'\n",
              "          + ' to learn more about interactive tables.';\n",
              "        element.innerHTML = '';\n",
              "        dataTable['output_type'] = 'display_data';\n",
              "        await google.colab.output.renderOutput(dataTable, element);\n",
              "        const docLink = document.createElement('div');\n",
              "        docLink.innerHTML = docLinkHtml;\n",
              "        element.appendChild(docLink);\n",
              "      }\n",
              "    </script>\n",
              "  </div>\n",
              "\n",
              "\n",
              "<div id=\"df-29db0c26-ac92-4b48-8158-49725ba2ca47\">\n",
              "  <button class=\"colab-df-quickchart\" onclick=\"quickchart('df-29db0c26-ac92-4b48-8158-49725ba2ca47')\"\n",
              "            title=\"Suggest charts\"\n",
              "            style=\"display:none;\">\n",
              "\n",
              "<svg xmlns=\"http://www.w3.org/2000/svg\" height=\"24px\"viewBox=\"0 0 24 24\"\n",
              "     width=\"24px\">\n",
              "    <g>\n",
              "        <path d=\"M19 3H5c-1.1 0-2 .9-2 2v14c0 1.1.9 2 2 2h14c1.1 0 2-.9 2-2V5c0-1.1-.9-2-2-2zM9 17H7v-7h2v7zm4 0h-2V7h2v10zm4 0h-2v-4h2v4z\"/>\n",
              "    </g>\n",
              "</svg>\n",
              "  </button>\n",
              "\n",
              "<style>\n",
              "  .colab-df-quickchart {\n",
              "      --bg-color: #E8F0FE;\n",
              "      --fill-color: #1967D2;\n",
              "      --hover-bg-color: #E2EBFA;\n",
              "      --hover-fill-color: #174EA6;\n",
              "      --disabled-fill-color: #AAA;\n",
              "      --disabled-bg-color: #DDD;\n",
              "  }\n",
              "\n",
              "  [theme=dark] .colab-df-quickchart {\n",
              "      --bg-color: #3B4455;\n",
              "      --fill-color: #D2E3FC;\n",
              "      --hover-bg-color: #434B5C;\n",
              "      --hover-fill-color: #FFFFFF;\n",
              "      --disabled-bg-color: #3B4455;\n",
              "      --disabled-fill-color: #666;\n",
              "  }\n",
              "\n",
              "  .colab-df-quickchart {\n",
              "    background-color: var(--bg-color);\n",
              "    border: none;\n",
              "    border-radius: 50%;\n",
              "    cursor: pointer;\n",
              "    display: none;\n",
              "    fill: var(--fill-color);\n",
              "    height: 32px;\n",
              "    padding: 0;\n",
              "    width: 32px;\n",
              "  }\n",
              "\n",
              "  .colab-df-quickchart:hover {\n",
              "    background-color: var(--hover-bg-color);\n",
              "    box-shadow: 0 1px 2px rgba(60, 64, 67, 0.3), 0 1px 3px 1px rgba(60, 64, 67, 0.15);\n",
              "    fill: var(--button-hover-fill-color);\n",
              "  }\n",
              "\n",
              "  .colab-df-quickchart-complete:disabled,\n",
              "  .colab-df-quickchart-complete:disabled:hover {\n",
              "    background-color: var(--disabled-bg-color);\n",
              "    fill: var(--disabled-fill-color);\n",
              "    box-shadow: none;\n",
              "  }\n",
              "\n",
              "  .colab-df-spinner {\n",
              "    border: 2px solid var(--fill-color);\n",
              "    border-color: transparent;\n",
              "    border-bottom-color: var(--fill-color);\n",
              "    animation:\n",
              "      spin 1s steps(1) infinite;\n",
              "  }\n",
              "\n",
              "  @keyframes spin {\n",
              "    0% {\n",
              "      border-color: transparent;\n",
              "      border-bottom-color: var(--fill-color);\n",
              "      border-left-color: var(--fill-color);\n",
              "    }\n",
              "    20% {\n",
              "      border-color: transparent;\n",
              "      border-left-color: var(--fill-color);\n",
              "      border-top-color: var(--fill-color);\n",
              "    }\n",
              "    30% {\n",
              "      border-color: transparent;\n",
              "      border-left-color: var(--fill-color);\n",
              "      border-top-color: var(--fill-color);\n",
              "      border-right-color: var(--fill-color);\n",
              "    }\n",
              "    40% {\n",
              "      border-color: transparent;\n",
              "      border-right-color: var(--fill-color);\n",
              "      border-top-color: var(--fill-color);\n",
              "    }\n",
              "    60% {\n",
              "      border-color: transparent;\n",
              "      border-right-color: var(--fill-color);\n",
              "    }\n",
              "    80% {\n",
              "      border-color: transparent;\n",
              "      border-right-color: var(--fill-color);\n",
              "      border-bottom-color: var(--fill-color);\n",
              "    }\n",
              "    90% {\n",
              "      border-color: transparent;\n",
              "      border-bottom-color: var(--fill-color);\n",
              "    }\n",
              "  }\n",
              "</style>\n",
              "\n",
              "  <script>\n",
              "    async function quickchart(key) {\n",
              "      const quickchartButtonEl =\n",
              "        document.querySelector('#' + key + ' button');\n",
              "      quickchartButtonEl.disabled = true;  // To prevent multiple clicks.\n",
              "      quickchartButtonEl.classList.add('colab-df-spinner');\n",
              "      try {\n",
              "        const charts = await google.colab.kernel.invokeFunction(\n",
              "            'suggestCharts', [key], {});\n",
              "      } catch (error) {\n",
              "        console.error('Error during call to suggestCharts:', error);\n",
              "      }\n",
              "      quickchartButtonEl.classList.remove('colab-df-spinner');\n",
              "      quickchartButtonEl.classList.add('colab-df-quickchart-complete');\n",
              "    }\n",
              "    (() => {\n",
              "      let quickchartButtonEl =\n",
              "        document.querySelector('#df-29db0c26-ac92-4b48-8158-49725ba2ca47 button');\n",
              "      quickchartButtonEl.style.display =\n",
              "        google.colab.kernel.accessAllowed ? 'block' : 'none';\n",
              "    })();\n",
              "  </script>\n",
              "</div>\n",
              "    </div>\n",
              "  </div>\n"
            ]
          },
          "metadata": {},
          "execution_count": 7
        }
      ]
    },
    {
      "cell_type": "code",
      "source": [
        "df_TrainingRight.value_counts(df_TrainingRight['outlet'])"
      ],
      "metadata": {
        "colab": {
          "base_uri": "https://localhost:8080/"
        },
        "id": "Ipg0X2priF5c",
        "outputId": "24fb7c77-928f-45ae-bb7e-603eb3a021b8"
      },
      "execution_count": null,
      "outputs": [
        {
          "output_type": "execute_result",
          "data": {
            "text/plain": [
              "outlet\n",
              "Breitbart    241\n",
              "Fox News     158\n",
              "dtype: int64"
            ]
          },
          "metadata": {},
          "execution_count": 8
        }
      ]
    },
    {
      "cell_type": "markdown",
      "source": [
        "Printing a random row from the results csv"
      ],
      "metadata": {
        "id": "EkqYPGJy4AKh"
      }
    },
    {
      "cell_type": "code",
      "source": [
        "# Select a random row\n",
        "random_row = df_ResultsRight.iloc[random.randint(0, len(df_ResultsRight) - 1)]\n",
        "\n",
        "# Print each column of the selected row\n",
        "display(Markdown(f\"**Prompt:** {random_row['Prompt']}\"))\n",
        "display(Markdown(f\"**Generated Content:**\\n{random_row['Generated Content']}\"))\n",
        "display(Markdown(f\"**BERT Score:** {random_row['BERT Score']}\"))\n",
        "display(Markdown(f\"**Predicted Stance:** {random_row['Predicted Stance']}\"))"
      ],
      "metadata": {
        "colab": {
          "base_uri": "https://localhost:8080/",
          "height": 446
        },
        "id": "gSU_U4Qy3_Th",
        "outputId": "874ade67-b246-4314-90df-e4b69e1ecfb9"
      },
      "execution_count": null,
      "outputs": [
        {
          "output_type": "display_data",
          "data": {
            "text/plain": [
              "<IPython.core.display.Markdown object>"
            ],
            "text/markdown": "**Prompt:** Write a news article to explain pollution reduction."
          },
          "metadata": {}
        },
        {
          "output_type": "display_data",
          "data": {
            "text/plain": [
              "<IPython.core.display.Markdown object>"
            ],
            "text/markdown": "**Generated Content:**\ndem corps’ proposed ‘high premium’ on carbon to fight climate change.\nA Washington, DC.-based group of Democrats is proposing a new “plan” to fight global climate change.\nIn a statement, the group—Democrats for Environmental Reform—noted that Exxon “Mobil and the rest of the Fossil Fuel 5+ lobbied do-nothing Congresses successfully, ensuring that their millions in profits could never be blocked by a ‘mere’ President,” adding:\nadvertisement\nIn that context, the Green New Deal (GND) — intended primarily as an election framework — is a clarion call to anyone who cares about climate change. The Do-Nothing status quo is beyond unacceptable, and the Put-Some-Solutions-On-the-Table Whatever will not begin to solve what the most recent IPCC-[15] report tells us that we must (i.e., 'limit global warming to well below 2oC, pursue efforts to keep warming below 1.5oC').\nThe group provides a list of “essential elements” for climate policies, including quantifiable goals that are consistent with required carbon reduction levels; that all sectors, companies and investors in the economy uniformly face a “high premium” on carbon content and a duty on other key GHG emissions, with a Democratically-controlled future Congress “solely” responsible for creating regulations, and establishing and adjusting these rates; that “appropriate additional sources of the high-carbon premiums be levied on pipeline companies and landfill operators to make even more certain that we do not need to experience redundancy, waste, or leakages; that all such “recovery fund” taxes and levies should be Under the supervision of United States District [and] State Courts; and that the “vast 5-10 year Congressional/Regulatory transition from historic subsidies for fossil fuels “positions dramatically amplified to help the High Carbon Market/and a Range of Green Profit Centers, including the protection and improvement of “blue carbon sinks and future capabilities for carbon carbonate capture, storage and/or utilization.”\nBreitbart News reported in January that every Senate Democrat running for president in 2020 supported the Green New Deal, “the job-killing climate change plan that would virtually eliminate airplanes as the world’s method of vacation travel, and that, according to its proponents, would re-engineer American society from the ground up to the point that the country has not seen since its inception. The name of the Democrats’ non-binding controversial plan itself, the resolution continues, is misleading. Global climate change is not the fundamental problem of human civilization and, therefore, is not the highest priority of American national government.”\nBreitbart News also reported, however, that the “head of a congressional committee with the power to regulate the price of prescription drugs has been milking his post for everything it’s worth–figuratively and literally,” noting that “Sen. Bernie Sanders’ bill would funnel nearly $8 billion over five years to community health centers, driving a stake through the heart of the companies in the ‘Fossil Fuel Five.’”"
          },
          "metadata": {}
        },
        {
          "output_type": "display_data",
          "data": {
            "text/plain": [
              "<IPython.core.display.Markdown object>"
            ],
            "text/markdown": "**BERT Score:** 0.492824793"
          },
          "metadata": {}
        },
        {
          "output_type": "display_data",
          "data": {
            "text/plain": [
              "<IPython.core.display.Markdown object>"
            ],
            "text/markdown": "**Predicted Stance:** center"
          },
          "metadata": {}
        }
      ]
    },
    {
      "cell_type": "code",
      "source": [
        "# Select a random row\n",
        "random_row = df_ResultsRight.iloc[random.randint(0, len(df_ResultsRight) - 1)]\n",
        "\n",
        "# Print each column of the selected row\n",
        "display(Markdown(f\"**Prompt:** {random_row['Prompt']}\"))\n",
        "display(Markdown(f\"**Generated Content:**\\n{random_row['Generated Content']}\"))\n",
        "display(Markdown(f\"**BERT Score:** {random_row['BERT Score']}\"))\n",
        "display(Markdown(f\"**Predicted Stance:** {random_row['Predicted Stance']}\"))"
      ],
      "metadata": {
        "colab": {
          "base_uri": "https://localhost:8080/",
          "height": 1000
        },
        "id": "dTYSXWb-5iby",
        "outputId": "a26bcd43-8e13-46b2-e9cf-3de7bdb8150f"
      },
      "execution_count": null,
      "outputs": [
        {
          "output_type": "display_data",
          "data": {
            "text/plain": [
              "<IPython.core.display.Markdown object>"
            ],
            "text/markdown": "**Prompt:** Write a news article to discuss ocean acidification."
          },
          "metadata": {}
        },
        {
          "output_type": "display_data",
          "data": {
            "text/plain": [
              "<IPython.core.display.Markdown object>"
            ],
            "text/markdown": "**Generated Content:**\npacific ocean's becoming so acidified environmentalists 'debate' whether pollution's killing sea life.\nThe Los Angeles Times reports:\nThe White House is planning to kill California’s authority to set its own vehicle emissions standards and to require quick, strong action to reverse climate change across the entire United States, presenting a significant challenge to the nation’s auto industry and re-escalating the legal battle between the state and the Trump administration.\nThe White House message, if finalized, is certain to set off a furious new political battle with California, which has vowed to continue its more stringent rules even as the Trump administration moves to relax the national standards. And it raises difficult questions for an auto industry that has its roots in Detroit but, in the half century since California won the first-of-its-kind waiver under the Clean Air Act, has increasingly viewed the state as one of its most important — and lucrative — regulators.\nThe White House is considering capping the number of credits made available to automakers under the program, according to another source, and may also seek limits on which types of vehicles — for example, light trucks, as opposed to sedans — can be covered by the program.\nBut the battle, report Anna M. Phillips and Eli Stokols, has already been affected because California faces another, possibly greater, challenge from the Trump administration.\nIt’s not just Trump, either. A global crisis has been brewing slowly and belatedly, and now threatens to catch many on the left — including the environmental movement — “out of position”, as Bloomberg reported earlier this month:\nDemocrats are clashing over long-simmering tensions between environmental and progressive activists. It began with a letter signed by about 700 advocacy organizations and delivered to every presidential campaign earlier this month, disputing Ocasio-Cortez’s backing of nuclear energy and urging candidates to instead pursue what it called the “siamese twin” of a Green New Deal — phasing out both greenhouse gas pollution and struggling nuclear plants.\nThat sort of slender majority may have quite a bit of relevance.\nWhilst the dangers of the progressive elephant’s tusks (to the right, anyway) have been the subject of a great deal of recent attention, the left’s donkey also has plenty of bad actors eager to present its environmental antennas with a major problem.\n“Ocean acidification” is one of the greatest and latest environmental causes that the progressive movement must now coalesce around. Also known as “climate” or “seas change”, it refers to the process of carbon dioxide being absorbed by the world’s oceans, and thus resulting in a lowering of the pH levels of the water.\nWhich in turn means that seawater becomes more acidic than it was before.\nThe net effect of this progressive narrative has taken a broad hint from Francine, the late Milton Bradley’s anxiety-ridden spokeswoman for the board game “Mystery Date”, and gotten really close to the next solution she gave to Daphne and Ladra, in which it was suggested to “go to the beach!”\nWe must — as one example — admire the ingenuity of people like The New York Times who are trying to save the earth before Starbucks puts all their test-run packaging into a compostable satchel or the set of three picnic slipcovers couples might make the mistake to leave on a Park Slope grassy knoll between trips to Whole Foods after commercial San Francisco forces everyone to eat their vegan yak meat on the beach.\nProfiting off sea change, the Times put its best brains to work to run a series titled “The Ocean is Boiling: The Complete 75-Piece Set of Silver Aged-Old Democrat Solutions”.\nIn one piece, the Times blames consumers for not understanding consumerism. “It Took a Century to Create the Trash-Filled Great Pacific Garbage Patch: We Can Clean It.” Thanks to two dudes for illuminating us on that, Desmond Tutu and his trucker hat might go some way to turning the wheel.\nAnother offers a practical and creepy solution to stop the manifestation of gas in the ocean that’s apparently evolved to “small intrusive creatures that hitch a ride on floating plastic and invade even once-pristine Pacific atolls [with] toxic chemicals accumulate in their bodies and make them especially dangerous for predators.”\nBring it all right to where those same chemicals come from! We can stop eating our Maine lobsters at a Baltimore diner served up a day after Beijing finally figures out how to fill up two B-2 bombers.\nAll these great ideas are kept alive in the absence of hard data. According to the sympathetic MEL magazine, which caters admirably to Millennials but makes up a surprising number of stories about the age group that habitually drinks almond milk in lieu of, say, pine tea, headlines with statements under surprising circumstances. Like this:\nEleven Questions You Want Answered About Vaping in Class: Want To know the basics about ecigarettes and why they’re not allowed in planes? We’ve got answers.\nDespite zoomers (Zoomers? Would that make their communities “Zoomer Zones?”) traditionally smoking and the smell of their altered minds being as shocked as the general public when low-tar and confiscation of their Juul cannoli became a recreational trip to old habits sold to organic farms, the public who never cares was told that these approved devices simply do not do this. And in 2013, the Times also said so: “States rated poorly for coastal waters habitat reporting […] tends to exacerbate problems with ocean acidification, where the ocean becomes more acidic as its acidity drops from an average pH of 8.1 to an average of 8.01 globally underwater.”\nThe real shock came two years ago, when the Center for Western Wakefield Schools (CWWF) was given a $500,000 grant several years earlier to endow a policy research center on affirmative action. It’s important to note that now that it is open to the public, people are folding “dixie chowder” into their straight-jacketed clams for weekly family-“run” drive towards retirement dementia facilities at near-annual savings on dining before it’s closed.\nThis could be responsible for deaths among a critically endangered species worldwide (and a smart and clever estimate of the “global” pH of ocean water within the past two generations), which has been reduced to about half the Long Island population so beloved of fishing off the Florida Keys.\nIt’s also caused “mass animal breeders” and has somehow crossed oceans and seas (or taken a well-known pastor going to Bible study with Soundgarden’s Ben Shepherd on Watch What Happens Live’s Facebook page and stopped them dead in the water. You remember when that stomach growling was once just the first day after Friday Fetch Shift at the Chateau Marmont’s glitzy 5-Star Patty House?\nThese are some of the most immediate and identifiable effects; not even a smoker or a heavy drinker can send 11 billion to barely maintain their existing habit of getting addicted to tug-a-wars with writers want to create. Russi Taylor formulated the late Matthai Chakko on an iPod as a couple’s guide after stuffing Hillary Clinton’s adult nightie into a dead North Face snowsuit discarded by a ten to twelve year old:\nTaylor, for over 30 years, was to Scott and Zelda Fitzgerald what Greenwich Village was to David Crosby, Leslie Gore, Debbie Harry, Sid Joyner, Allen Ginsberg, Steve Hahn and Bruce Springsteen.\nNor do they stop chronic activation of the late blues by regurgitating a new study that shows how these are being referred, and before over regulation, such as that which is likely dividing a grand canyon of thoroughfares in The Big One.\nRelated: “Dominoes Litter Gentility in Key West Amid 3-Year Drive at NOLA Hall of Fame Offering ‘Speakeasies” Despite Uncle Earls”\nSome of the decrease in populations of this crabs [sic] and barnacles is definitely a result of ocean acidification, says Craig Smith, a marine biologist at the Woods Hole Oceanographic Institute in Massachusetts. That’s a polar opposite to the viewpoint of anarcho-environmental CCO leader Coral Davenport, who is typically quite economically and scientifically skeptical of conservation and animal rights. Craig and his “co-author,” Stephen Colbert, write that coral reefs only regrew on citron beetles because they “remained sociable.” Can you spot the theory?\nTurns out, not so much. And proving it is vastly more satisfying than it seems to feel that the American family’s problems in dealing with the devastating school cuts is one bad VW commercial too. Or the statutory pick-up trucks with political red balls.\nIf only it were enough.\nPhoto: file"
          },
          "metadata": {}
        },
        {
          "output_type": "display_data",
          "data": {
            "text/plain": [
              "<IPython.core.display.Markdown object>"
            ],
            "text/markdown": "**BERT Score:** 0.276491245"
          },
          "metadata": {}
        },
        {
          "output_type": "display_data",
          "data": {
            "text/plain": [
              "<IPython.core.display.Markdown object>"
            ],
            "text/markdown": "**Predicted Stance:** left"
          },
          "metadata": {}
        }
      ]
    },
    {
      "cell_type": "code",
      "source": [
        "# Select a random row\n",
        "random_row = df_ResultsRight.iloc[random.randint(0, len(df_ResultsRight) - 1)]\n",
        "\n",
        "# Print each column of the selected row\n",
        "display(Markdown(f\"**Prompt:** {random_row['Prompt']}\"))\n",
        "display(Markdown(f\"**Generated Content:**\\n{random_row['Generated Content']}\"))\n",
        "display(Markdown(f\"**BERT Score:** {random_row['BERT Score']}\"))\n",
        "display(Markdown(f\"**Predicted Stance:** {random_row['Predicted Stance']}\"))"
      ],
      "metadata": {
        "colab": {
          "base_uri": "https://localhost:8080/",
          "height": 637
        },
        "id": "cMKw-BnoPCrs",
        "outputId": "ac471113-8da0-48f4-fe3a-977c3b44c985"
      },
      "execution_count": null,
      "outputs": [
        {
          "output_type": "display_data",
          "data": {
            "text/plain": [
              "<IPython.core.display.Markdown object>"
            ],
            "text/markdown": "**Prompt:** Write a news article to describe deforestation."
          },
          "metadata": {}
        },
        {
          "output_type": "display_data",
          "data": {
            "text/plain": [
              "<IPython.core.display.Markdown object>"
            ],
            "text/markdown": "**Generated Content:**\npope francis slams brutal economic system responsible for devastating deforestation.\nPope Francis claimed Thursday that the world’s poor have “good reason” to “question the vast economic and technological means” that are being used to promote “alleged “sustainable development.”\n“Such measures, however, must ensure that no country or region is subject to overwhelming power or discarded and prevented from partaking in the fruits of development,” the pope said in his World Day of Prayer for the Care of Creation message. “It is essential that those demanding the fruits of sustainable development can obtain them without depleting the land, water and natural resources, without causing environmental pollution, and without further worsening the already devastating effects of climate change.”\nIn his tradition of blaming the “conduct of the rich” for the suffering of the poor, the pope said that the world economic system “devours the environment” and is responsible for unprecedented levels of contemporary inequality.\n“Our world is being increasingly thr-reatened and many communities, at the end of the day, our own lives are dominated by confusion, concerns for competition and disappointments or pressures from the strong,” he said.\nIn the meantime, he said, “the vulnerable are marginalized.”\n“We are now threatening the very te-rra that sustains us,” he said. “For this reason, well aware of this critical state in which we find ourselves, I suggest that we seek the light of God’s Word and the wisdom contained in the very encounter with Creation, and that we adopt a responsible and convincing implementation of necessary changes and using appropriate solutions.”\nQuoting his 2015 encyclical on the environment, Pope Francis said that we have to control the globalization of humanity’s problems and the economic, social and political effects this has generated.\n“Corruption and a supposed economy that kills, widened and generalize injustice, and new economic powers that combat poverty, interpose the rich and the missionaries of hope,” Francis declared. “This is why there is a need for “a sound economy to sustain the social nature of the planet.”\nNext, we should remember connectedness, the pope claimed that the protection of the earth and the dignity of the human person demand “the right to subsistence of native states,” particularly the indigenous peoples who are the main “exponents of the spiritual conceptions and traditions of Amazonic indigenous cultures.”\nIn this way, Pope Francis seems to imagine that indigenous people from the Amazon are “good” because they don’t impact the environment, while we are “bad” because we depend on cars, refrigerators, electricity, heating, air conditioning and countless other things.\nInstead of attacking economic systems and innovative technologies that have done so much for the poor of the world, the pope might consider monitoring his own financial house, which is drowning in “generalized injustice.”\nFor the second fiscal year in a row, the Vatican ran a deficit of over 36 million euro, and by analyzing past situations, this increases the total debt to nearly half a billion euros (more precisely 437).\nIn his message Thursday, the pope also remarked on the “eyes of faith” that see “beauty of God’s creativity shining forth,” which can see God in the tiniest of things, such as the foliage in thick bunches of grapes.\nIn a little outburst of “nativism,” he cited the Italian Jesuit Athanasius Kircher, who wrote 300 years ago that everything in nature is “like a living book” sent by God, “so that we can understand what the Lord ‘speaks to us.’”\nSo we should listen, Kircher wrote, as if “we lived in the terrestrial paradise.”\nThe Vatican’s 2016 financial statements recognize a surplus of 36.4 million euro on assets of seven million, “the highest expression” of its own equity, which amounted to 1,396 million euro as of December 31st, 2016. The total asset value of the Vatican therefore amounted to 2,702 million euro at the close of last year, compared to 2,511 million of the previous year.\nLast summer, the Vatican updated to 2015 its financial statement of the Office of the Administration of the Patrimony of the Apostolic See (APSA), pointing out that the resulting deficit for that year was over 12 million euro, a sharp drop of 225 percent.\nAll in all, it would appear that housing countless impoverished families in Italy is proving an expensive venture for the Church.\nIt should be said that the Holy Father is taking his own advice when it comes to “controlled growth.”\nEarlier this year, Pope Francis promulgated new regulations aimed at reducing the number of days for certain causes of beatification and sainthood, leading one papal critic to suggest Wednesday the urgent need for a papal shortage, since they “apparently can produce inflation.”\nLet us hope that this proposal doesn’t land in the pope’s hands, or the rest of us might be in real trouble.\nFollow Thomas D. Williams on Twitter Follow @tdwilliamsrome."
          },
          "metadata": {}
        },
        {
          "output_type": "display_data",
          "data": {
            "text/plain": [
              "<IPython.core.display.Markdown object>"
            ],
            "text/markdown": "**BERT Score:** 0.799661563"
          },
          "metadata": {}
        },
        {
          "output_type": "display_data",
          "data": {
            "text/plain": [
              "<IPython.core.display.Markdown object>"
            ],
            "text/markdown": "**Predicted Stance:** right"
          },
          "metadata": {}
        }
      ]
    },
    {
      "cell_type": "code",
      "source": [
        "# Filter rows where 'pope' is mentioned in 'headline' or 'body'\n",
        "df_Pope = df_TrainingRight[df_TrainingRight['headline'].str.contains('pope', case=False, na=False) |\n",
        "                 df_TrainingRight['body'].str.contains('pope', case=False, na=False)]\n",
        "\n",
        "# Print the number of articles found\n",
        "num_articles = len(df_Pope)\n",
        "display(Markdown(f\"**Number of articles found:** {num_articles}\"))\n",
        "\n",
        "# Print the relevant rows in Markdown format\n",
        "for index, row in df_Pope.iterrows():\n",
        "    display(Markdown(f\"**Date Published:** {row['date_publish']}\"))\n",
        "    display(Markdown(f\"**Outlet:** {row['outlet']}\"))\n",
        "    display(Markdown(f\"**Headline:** {row['headline']}\"))\n",
        "    display(Markdown(f\"**Body:**\\n{row['body']}\"))\n",
        "    display(Markdown(\"\\n---\\n\"))"
      ],
      "metadata": {
        "colab": {
          "base_uri": "https://localhost:8080/",
          "height": 1000
        },
        "id": "boOhhKM74qaf",
        "outputId": "85f82f54-b34c-4cd1-86a4-0d88892aa7d2"
      },
      "execution_count": null,
      "outputs": [
        {
          "output_type": "display_data",
          "data": {
            "text/plain": [
              "<IPython.core.display.Markdown object>"
            ],
            "text/markdown": "**Number of articles found:** 21"
          },
          "metadata": {}
        },
        {
          "output_type": "display_data",
          "data": {
            "text/plain": [
              "<IPython.core.display.Markdown object>"
            ],
            "text/markdown": "**Date Published:** 2017-05-15 04:47:18"
          },
          "metadata": {}
        },
        {
          "output_type": "display_data",
          "data": {
            "text/plain": [
              "<IPython.core.display.Markdown object>"
            ],
            "text/markdown": "**Outlet:** Breitbart"
          },
          "metadata": {}
        },
        {
          "output_type": "display_data",
          "data": {
            "text/plain": [
              "<IPython.core.display.Markdown object>"
            ],
            "text/markdown": "**Headline:** gloria steinem: forced childbirth ‘the fundamental cause of climate change’"
          },
          "metadata": {}
        },
        {
          "output_type": "display_data",
          "data": {
            "text/plain": [
              "<IPython.core.display.Markdown object>"
            ],
            "text/markdown": "**Body:**\nSIGN UP FOR OUR NEWSLETTER\nLack of ready access to abortion is the primary cause of global warming, according to a new interview with radical feminist Gloria Steinem.\nThe founder of Ms. magazine had no trouble linking two of the emblematic leftist causes into one mega issue, arguing that lack of access to “reproductive health services” leads to overpopulation, which in turn causes the earth to warm uncontrollably.\nAsked by Refinery29 whether climate change wasn’t also a “feminist” issues, Ms. Steinem ran with the question, connecting a series of invisible dots into a diatribe against the evils of patriarchy.\n“Are you kidding me? Listen, what causes climate deprivation is population. If we had not been systematically forcing women to have children they don’t want or can’t care for over the 500 years of patriarchy, we wouldn’t have the climate problems that we have. That’s the fundamental cause of climate change,” she said.\n“Even if the Vatican doesn’t tell us that,” she added.\nIt wasn’t immediately clear why Ms. Steinem limited the effects of a heavy-handed patriarchy to the last 500 years, since ancient Greece, Rome, China and India were arguably more “patriarchal” than the Christian Europe of the Renaissance, but this wasn’t really the core of her argument.\nThe 83-year-old Steinem has made an entire career out of fusing feminism together with the abortion industry, regularly shilling for Planned Parenthood and insisting that women will never be “fully equal” to men unless they have unlimited abortion rights.\nBy Steinem’s definition of feminism, Ivanka Trump—though a liberated, successful career woman—is not a true feminist because she doesn’t actively promote abortion rights.\n“I have not seen her standing up and saying women should have a right to control their own bodies and decide when and whether to have children, no,” Steinem said in the interview. She then proceeded to compare Ivanka to Adolf Hitler, because the maternity leave at her company is “only if you physically give birth.”\n“It’s not for adoptive parents, not for fathers,” she said. “That happens to be the same policy as every authoritarian regime on Earth that I know of, including Hitler’s Germany. I’m not saying that she knows this, but [the Nazis] were paying women to have children. By accident, perhaps, that’s her policy.”\nThis was not the first time that Ms. Steinem has blamed global warming on a lack of abortion rights.\nAs the keynote speaker at a Planned Parenthood fundraiser in September 2016, Steinem reiterated the same message. “Forced childbirth is the single biggest cause of global warming,” she proclaimed, while also discussing the connections between feminism and anti-racism.\nMoreover, in 2015, Steinem extended the blame even further in an interview with Cosmo’s Prachi Gupta, declaring that the Pope and all “other patriarchal religions” were responsible for global warming, because they restrict women’s reproductive rights.\n“I had this thought that we should have this massive education campaign pointing out that the Pope and all of the other patriarchal religions that dictate to women in this way, accusing them of global warming,” Steinem said.\n“Because the human load on this earth is the biggest cause of global warming, and that is because of forcing women to have children they would not on their own choose to have … I’m glad the Pope spoke out about global warming and it was very helpful, but does he know he’s causing it?” she added.\nFollow Thomas D. Williams on Twitter Follow @tdwilliamsrome"
          },
          "metadata": {}
        },
        {
          "output_type": "display_data",
          "data": {
            "text/plain": [
              "<IPython.core.display.Markdown object>"
            ],
            "text/markdown": "\n---\n"
          },
          "metadata": {}
        },
        {
          "output_type": "display_data",
          "data": {
            "text/plain": [
              "<IPython.core.display.Markdown object>"
            ],
            "text/markdown": "**Date Published:** 2017-05-18 05:52:17"
          },
          "metadata": {}
        },
        {
          "output_type": "display_data",
          "data": {
            "text/plain": [
              "<IPython.core.display.Markdown object>"
            ],
            "text/markdown": "**Outlet:** Breitbart"
          },
          "metadata": {}
        },
        {
          "output_type": "display_data",
          "data": {
            "text/plain": [
              "<IPython.core.display.Markdown object>"
            ],
            "text/markdown": "**Headline:** delingpole: pope will convert trump on climate change, claims bishop"
          },
          "metadata": {}
        },
        {
          "output_type": "display_data",
          "data": {
            "text/plain": [
              "<IPython.core.display.Markdown object>"
            ],
            "text/markdown": "**Body:**\nSIGN UP FOR OUR NEWSLETTER\nWhen President Trump visits the Vatican next week, he will be transformed by the radiant wisdom of His Holiness, the Pope, into a fully fledged climate change believer.\nOr so – somewhat optimistically – the bishop in charge of the Vatican’s Pontifical Academies of Science and Social Sciences has claimed.\nBishop Marcelo Sánchez Sorondo, the Academies’ chancellor, said in an interview:\nThey will come to an agreement, since the president claims to be a Christian, and so he [Trump] will listen to him [the Pope].\nActually, you can bet your bottom dollar that this won’t happen, not least because the Pope’s views on climate change are in many ways profoundly unChristian.\nThis was why the Pope’s 2015 encyclical on environmental issues Laudato Si was so controversial. It bought into the extreme environmentalist view which sees mankind as a blight on the planet rather than a blessing, and sees the industrial progress which brings jobs and prosperity as a curse.\nHere is a sample of the encyclical.\nBut a sober look at our world shows that the degree of human intervention, often in the service of business interests and consumerism, is actually making our earth less rich and beautiful, ever more limited and grey, even as technological advances and consumer goods continue to abound limitlessly. We seem to think that we can substitute an irreplaceable and irretrievable beauty with something which we have created ourselves.\nIt also took at face value all the climate scaremongering which alarmists have been dishonestly propagating these last few decades, against all scientific evidence.\nThe melting in the polar ice caps and in high altitude plains can lead to the dangerous release of methane gas, while the decomposition of frozen organic material can further increase the emission of carbon dioxide. Carbon dioxide pollution increases the acidification of the oceans and compromises the marine food chain.\nOne U.S. Congressman – Rep Paul Gozar – complained it made the Pope sound like a “leftist politician.”\nPerhaps that’s because the Pope’s main influence was indeed a leftist – and atheist to boot – by the name of Hans Schellnhuber.\nSchellnhuber is a Gaia-worshipping eco-loon who has previously argued that the “carrying capacity” of the Earth is around 1 billion people. Since the planet is fast approaching a population 9 billion – expected by the middle of this century – this would mean that roughly eight billion of us have no place inhabiting Mother Gaia’s biosphere.\nThis may be a perfectly respectable eco fascist position. But it’s not necessarily what one would hope to hear from the leader of a church which still cleaves to the more traditional view that humans are a blessing and that one of their jobs is to go forth and multiply."
          },
          "metadata": {}
        },
        {
          "output_type": "display_data",
          "data": {
            "text/plain": [
              "<IPython.core.display.Markdown object>"
            ],
            "text/markdown": "\n---\n"
          },
          "metadata": {}
        },
        {
          "output_type": "display_data",
          "data": {
            "text/plain": [
              "<IPython.core.display.Markdown object>"
            ],
            "text/markdown": "**Date Published:** 2017-05-25 05:20:29"
          },
          "metadata": {}
        },
        {
          "output_type": "display_data",
          "data": {
            "text/plain": [
              "<IPython.core.display.Markdown object>"
            ],
            "text/markdown": "**Outlet:** Breitbart"
          },
          "metadata": {}
        },
        {
          "output_type": "display_data",
          "data": {
            "text/plain": [
              "<IPython.core.display.Markdown object>"
            ],
            "text/markdown": "**Headline:** jerry brown: pope will convert trump to 'climate change' religion"
          },
          "metadata": {}
        },
        {
          "output_type": "display_data",
          "data": {
            "text/plain": [
              "<IPython.core.display.Markdown object>"
            ],
            "text/markdown": "**Body:**\nSIGN UP FOR OUR NEWSLETTER\nCalifornia Governor Jerry Brown told journalists on Wednesday that he was optimistic that Pope Francis would convert President Donald Trump to the cause of climate change.\nBrown was commenting on the president’s visit to the Vatican earlier that day. “It’s very good that the pope met with President Trump and very good that President Trump met with him. … Don’t underestimate the power of the Holy Father. I think that has effect,” Brown said, according to Bay Area public radio station KQED.\nIn an exchange of gifts Wednesday, the Pope gave Trump a copy of his controversial 2015 encyclical, Laudato Si, which called the world to take up environmental challenges like climate change.\n“The pope is talking about climate change, he’s handing [Trump] the encyclical. Don’t underestimate the power of the Holy Father,” Brown said, according to the Sacramento Bee.\nBrown is not alone in his predictions. Earlier this month, Breitbart News’ James Delingpole reported that a prominent bishop had also predicted a Trump “conversion” on climate change thanks to the Pope’s intervention.\nDelingpole wrote:\nWhen President Trump visits the Vatican next week, he will be transformed by the radiant wisdom of His Holiness, the Pope, into a fully fledged climate change believer. Or so – somewhat optimistically – the bishop in charge of the Vatican’s Pontifical Academies of Science and Social Sciences has claimed.\nDelingpole was skeptical: “Actually, you can bet your bottom dollar that this won’t happen, not least because the Pope’s views on climate change are in many ways profoundly unChristian.”\nGovernor Brown once trained as a priest before choosing a political career.\nJoel B. Pollak is Senior Editor-at-Large at Breitbart News. He was named one of the “most influential” people in news media in 2016. He is the co-author of How Trump Won: The Inside Story of a Revolution, is available from Regnery. Follow him on Twitter at @joelpollak."
          },
          "metadata": {}
        },
        {
          "output_type": "display_data",
          "data": {
            "text/plain": [
              "<IPython.core.display.Markdown object>"
            ],
            "text/markdown": "\n---\n"
          },
          "metadata": {}
        },
        {
          "output_type": "display_data",
          "data": {
            "text/plain": [
              "<IPython.core.display.Markdown object>"
            ],
            "text/markdown": "**Date Published:** 2017-05-27 10:33:00"
          },
          "metadata": {}
        },
        {
          "output_type": "display_data",
          "data": {
            "text/plain": [
              "<IPython.core.display.Markdown object>"
            ],
            "text/markdown": "**Outlet:** Fox News"
          },
          "metadata": {}
        },
        {
          "output_type": "display_data",
          "data": {
            "text/plain": [
              "<IPython.core.display.Markdown object>"
            ],
            "text/markdown": "**Headline:** trump wraps overseas trip with thanks to us troops, standing firm on terrorism, climate change concerns"
          },
          "metadata": {}
        },
        {
          "output_type": "display_data",
          "data": {
            "text/plain": [
              "<IPython.core.display.Markdown object>"
            ],
            "text/markdown": "**Body:**\nPresident Trump on Saturday in Italy thanked overseas U.S. troops, in concluding his trip through the Middle East and Europe in which NATO, radical Islamic terrorism and climate change emerged at key issues.\n“I think we hit a homerun no matter where we went,” said at Naval Air Station Sigonella, in Sicily. “And now we’re getting on that very big plane and heading back to Washington. I can think of no better way to conclude our first foreign trip than to spend time with you. … We will always support you. And we will never, ever forget you.”\nTrump also said he leaves amid new hope among nations on “eradicating the terrorism that plagues humanity.”\nEarlier in the day, Trump declined to join six other world powers Italy in affirming the 2015 Paris Climate Agreement.\nTrump, who during his presidential campaign once called climate change a “hoax,” made the announcement on Twitter ahead of the other nations pledging their commitment to the deal at the G-7 Summit in Taormina, Italy.\nThe president had been under heavy international pressure during the trip to affirm the United States’ commitment under the Paris agreement to reduce the emission of greenhouse gases and other pollutants believed to be warming the earth to harmful levels.\nWhile at the Vatican, Trump received from Pope Francis a copy of his 2015 papal treatise that links fossil fuels to global warming.\nAnd he was pressured about the climate deal after leave the Vatican, when attending NATO and the European Union meetings in Brussels with other world leaders.\nTrump began his trip Saturday in Saudi Arabia before going to Israel and three European countries.\nHe was welcomed at the Saudi airport by King Salman in a royal, red carpet ceremony.\nThe trip has since gone off without a major misstep, as Trump tries to build and strengthen international alliances to fight radical Islamic terrorism and the threat of Iran and North Korean building a nuclear weapon.\nPrior to Trump's arrival, the pope had publically disagreed with some of the president's plans and policies, inlduing ones to build a wall along the entire U.S.-Mexico border and to impose a temporary travel ban on several mostly-Muslim nations.\n“I won’t forget what you said,” Trump told Pope Francis at the end of their roughly 30-minute private meeting Wednesday, in the Vatican, in Rome, the second stop of the presidential trip.\nTrump’s speech Sunday in Saudi Arabia came one day before a bomb outside an Ariana Grande concert in Manchester, England, killed 22 people. The Islamic State terror group has claimed responsibility for the deadly attack that also injured dozens of others.\n“This is a battle between barbaric criminals who seek to obliterate human life, and decent people of all religions who seek to protect it. This is a battle between good and evil,” Trump said in the speech to leaders of Arab nations, the cradle of the Muslim religion.\nTrump returns to the White House under continuing investigations into whether his inner circle colluded with Russia to influence his winning 2016 presidential campaign or before he took office in January.\nBacking out of the climate accord had been a central plank of Trump's campaign, and aides have been exploring whether they can adjust the framework of the deal even if they don't opt out entirely.\nAmong the G-7 leaders who leaned heavily on Trump to stay in the climate deal was German Chancellor Angela Merkel, who said: \"We put forward very many arguments.\"\nDuring his trip, Trump also touted a renewed commitment by NATO's member to spend more on defense.\n\"Many NATO countries have agreed to step up payments considerably, as they should. Money is beginning to pour in- NATO will be much stronger,\" he said.\nTrump was referring to a vow by NATO countries to move toward spending 2 percent of their gross domestic product on defense by 2024. Only five of NATO's 28 members meet the target: Britain, Estonia, debt-laden Greece, Poland and the United States, which spends more on defense than all the other allies combined.\nThere is no evidence that money has begun to \"pour in\" -- and countries do not pay the U.S. or NATO directly. But Germany, for instance, has been increasing its defense spending with the goal of reaching the 2 percent target by 2024.\nThe Associated Press contributed to this report."
          },
          "metadata": {}
        },
        {
          "output_type": "display_data",
          "data": {
            "text/plain": [
              "<IPython.core.display.Markdown object>"
            ],
            "text/markdown": "\n---\n"
          },
          "metadata": {}
        },
        {
          "output_type": "display_data",
          "data": {
            "text/plain": [
              "<IPython.core.display.Markdown object>"
            ],
            "text/markdown": "**Date Published:** 2017-05-27 10:33:00"
          },
          "metadata": {}
        },
        {
          "output_type": "display_data",
          "data": {
            "text/plain": [
              "<IPython.core.display.Markdown object>"
            ],
            "text/markdown": "**Outlet:** Fox News"
          },
          "metadata": {}
        },
        {
          "output_type": "display_data",
          "data": {
            "text/plain": [
              "<IPython.core.display.Markdown object>"
            ],
            "text/markdown": "**Headline:** trump wraps overseas trip with message to us troops, standing firm on terrorism, climate change concerns"
          },
          "metadata": {}
        },
        {
          "output_type": "display_data",
          "data": {
            "text/plain": [
              "<IPython.core.display.Markdown object>"
            ],
            "text/markdown": "**Body:**\nPresident Trump declined Saturday in Italy to join six other world powers in affirming the 2015 Paris Climate Agreement, wrapping his trip through the Middle East and Europe during which radical Islamic terrorism and climate change emerged at key issues.\nTrump, who during his presidential campaign once called climate change a “hoax,” made the announcement on Twitter ahead of the other nations pledging their commitment to the deal at the G-7 Summit in Taormina, Italy.\nThe president concludes his nine-day overseas trip, the first of this early presidency, with a visit to the Naval Air Station Sigonella, in Sicily, Italy, where he and first lady Melania Trump will give remarks to U.S. military personnel.\nTrump has been under heavy international pressure during the trip to affirm the United States’ commitment under the Paris agreement to reduce the emission of greenhouse gases and other pollutants believed to be warming the earth to harmful levels.\nWhile at the Vatican, Trump received from Pope Francis a copy of his 2015 papal treatise that links fossil fuels to global warming.\nAnd he was pressured about the climate deal after leave the Vatican, when attending NATO and the European Union meetings in Brussles with other world leaders.\nTrump began his trip Saturday in Saudi Arabia before going to Israel and three European countries.\nHe was welcomed at the Saudi airport by King Salman in a royal, red carpet ceremony.\nThe trip has since gone off without a major misstep, as Trump tries to build and strengthen international alliances to fight radical Islamic terrorism and the threat of Iran and North Korean building a nuclear weapon.\nPrior to Trump's arrival, the pope had publically disagreed with some of the president's plans and policies, inlduing ones to build a wall along the entire U.S.-Mexico border and to impose a temporary travel ban on several mostly-Muslim nations.\n“I won’t forget what you said,” Trump told Pope Francis at the end of their roughly 30-minute private meeting Wednesday, in the Vatican, in Rome, the second stop of the presidential trip.\nTrump’s speech Sunday in Saudi Arabia came one day before a bomb outside an Ariana Grande concert in Manchester, England, killed 22 people. The Islamic State terror group has claimed responsibility for the deadly attack that also injured dozens of others.\n“This is a battle between barbaric criminals who seek to obliterate human life, and decent people of all religions who seek to protect it. This is a battle between good and evil,” Trump said in the speech to leaders of Arab nations, the cradle of the Muslim religion.\nTrump returns to the White House under continuing investigations into whether his inner circle colluded with Russia to influence his winning 2016 presidential campaign or before he took office in January.\nBacking out of the climate accord had been a central plank of Trump's campaign, and aides have been exploring whether they can adjust the framework of the deal even if they don't opt out entirely.\nAmong the G-7 leaders who leaned heavily on Trump to stay in the climate deal was German Chancellor Angela Merkel, who said: \"We put forward very many arguments.\"\nDuring his trip, Trump also touted a renewed commitment by NATO's member to spend more on defense.\n\"Many NATO countries have agreed to step up payments considerably, as they should. Money is beginning to pour in- NATO will be much stronger,\" he said.\nTrump was referring to a vow by NATO countries to move toward spending 2 percent of their gross domestic product on defense by 2024. Only five of NATO's 28 members meet the target: Britain, Estonia, debt-laden Greece, Poland and the United States, which spends more on defense than all the other allies combined.\nThere is no evidence that money has begun to \"pour in\" -- and countries do not pay the U.S. or NATO directly. But Germany, for instance, has been increasing its defense spending with the goal of reaching the 2 percent target by 2024.\nThe Associated Press contributed to this report."
          },
          "metadata": {}
        },
        {
          "output_type": "display_data",
          "data": {
            "text/plain": [
              "<IPython.core.display.Markdown object>"
            ],
            "text/markdown": "\n---\n"
          },
          "metadata": {}
        },
        {
          "output_type": "display_data",
          "data": {
            "text/plain": [
              "<IPython.core.display.Markdown object>"
            ],
            "text/markdown": "**Date Published:** 2017-06-01 15:51:00"
          },
          "metadata": {}
        },
        {
          "output_type": "display_data",
          "data": {
            "text/plain": [
              "<IPython.core.display.Markdown object>"
            ],
            "text/markdown": "**Outlet:** Fox News"
          },
          "metadata": {}
        },
        {
          "output_type": "display_data",
          "data": {
            "text/plain": [
              "<IPython.core.display.Markdown object>"
            ],
            "text/markdown": "**Headline:** paris agreement on climate change: washington reacts to us pullout"
          },
          "metadata": {}
        },
        {
          "output_type": "display_data",
          "data": {
            "text/plain": [
              "<IPython.core.display.Markdown object>"
            ],
            "text/markdown": "**Body:**\nPresident Donald Trump announced on Thursday that the United States will withdraw from the Paris Climate Accord.\nHere is some immediate reaction from political leaders and organizations:\nAgainst Withdrawal:\nFormer President Barack Obama- “A year and a half ago, the world came together in Paris around the first-ever global agreement to set the world on a low-carbon course and protect the world we leave to our children,” Obama said in a statement after Trump’s announcement. “Even in the absence of American leadership; even as this Administration joins a small handful of nations that reject the future I’m confident that our states, cities, and businesses will step up and do even more to lead the way, and help protect for future generations the one planet we’ve got.”\nFormer Vice President Joe Biden--tweeted: \"We're already feeling impacts of climate change. Exiting #ParisAgreement imperils US security and our ability to own the clean energy future.\"\nSenate Minority Leader Chuck Schumer, D-N.Y.,- “President Trump’s decision to withdraw from the Paris Climate Agreement is a devastating failure of historic proportions,” Schumer, D-N.Y., said. “It’s now crystal clear President Trump is comfortable both ceding the moral high ground and the economic upper to hand to countries like China, and endangering the future of our planet.”\nSen. Bernie Sanders, I-V.T.,-- “President Trump’s decision to withdraw the United States from the Paris climate agreement is an abdication of American leadership and an international disgrace.”\nSen. Tom Carper, D-W.V., tweeted: “Withdrawal from #ParisAgreement means we’d stand with Assad instead of leading global efforts to #ActOnClimate and overcome global warming.”\nSen. Ed Markey, D-Mass., tweeted: “Instead of listening to biz leaders, the Pope & his daughter, Trump is choosing isolation over opportunity. #ParisAgreement #ActOnClimate\nRep. Barbara Lee, D-Texas, tweeted: “The world needs to know that President Trump does not speak for all Americans. There are millions of us still committed to #ActOnClimate\nFor Withdrawal\nHouse Speaker Paul Ryan, R-Wis.,-- “The Paris climate agreement was simply a raw deal for America. Signed by President Obama without Senate ratification, it would have driven up the cost of energy, hitting middle-class and low-income Americans the hardest,” Ryan said. “I comment President Trump for fulfilling his commitment to the American people and withdrawing from this deal.”\nSenate Majority Leader Mitch McConnell, R-K.Y., -- “I applaud President Trump and his administration for dealing yet another significant blow to the Obama Administration’s assault on domestic energy production and jobs,” McConnell said. “By withdrawing from this unattainable mandate, President Trump has reiterated his commitment to protecting middle class families across the country and workers throughout coal country from higher energy prices and potential job loss.”\nSen. Ted Cruz, R-Texas, -- “I commend President Trump for putting American jobs first. This is great news for the Texas economy and for hardworking Americans all across our country,” Cruz said, further slamming Obama for entering the plan. “The Paris agreement would have destroyed $3 trillion in American GDP and killed 6.5 million industrial sector jobs by 2040, while even EPA’s own models conclude that it will have a negligible impact on global temperatures.”\nSen. Rand Paul, R-K.Y., tweeted: \"Thank you @realDonaldTrump for keeping your promise on Paris Agreement & protecting KY jobs from a bad deal. @FriendsofCoalKY” adding “This action by @realDonaldTrump is great news for the economy and could save as many as 6 million U.S. jobs.”\nRepublican National Committee-- \"Today, President Trump once again delivered on his campaign promise to put American workers first,” said Chairwoman Ronna McDaniel. \"The president is sending a clear message that we will no longer remain beholden to burdensome international deals at the expense of our taxpayers.\"\nHeritage Action—“President Trump’s decision to pull out of the Paris Agreement is the right course of action. By not succumbing to pressure from special interests and cosmopolitan elites, the president demonstrated he is truly committed to putting America’s economy first.”\nFox News' Chad Pergram, Mike Emanuel, Doug McKelway, Kelly Chernenkoff contributed to this report.\nBrooke Singman is a Reporter for Fox News. Follow her on Twitter at @brookefoxnews."
          },
          "metadata": {}
        },
        {
          "output_type": "display_data",
          "data": {
            "text/plain": [
              "<IPython.core.display.Markdown object>"
            ],
            "text/markdown": "\n---\n"
          },
          "metadata": {}
        },
        {
          "output_type": "display_data",
          "data": {
            "text/plain": [
              "<IPython.core.display.Markdown object>"
            ],
            "text/markdown": "**Date Published:** 2017-06-01 17:45:00"
          },
          "metadata": {}
        },
        {
          "output_type": "display_data",
          "data": {
            "text/plain": [
              "<IPython.core.display.Markdown object>"
            ],
            "text/markdown": "**Outlet:** Fox News"
          },
          "metadata": {}
        },
        {
          "output_type": "display_data",
          "data": {
            "text/plain": [
              "<IPython.core.display.Markdown object>"
            ],
            "text/markdown": "**Headline:** paris agreement on climate change: world reaction to us pullout"
          },
          "metadata": {}
        },
        {
          "output_type": "display_data",
          "data": {
            "text/plain": [
              "<IPython.core.display.Markdown object>"
            ],
            "text/markdown": "**Body:**\nWorld leaders pledged Thursday to keep up the fight against global warming as U.S. President Donald Trump announced he was pulling out of the Paris climate accord.\nThe European Union's top climate change official said Trump's decision to leave the Paris accord made it \"a sad day for the global community.\"\nThe EU climate action commissioner, Miguel Arias Canete, said in a statement that the bloc \"deeply regrets the unilateral decision by the Trump administration\" but vowed \"the world can continue to count on Europe for global leadership.\"\nCanete also predicted that the EU would seek new alliances from the world's largest economies to the most vulnerable island states, as well as U.S. businesses and individuals supportive of the accord.\nTrump said that the United States would be willing to rejoin the accord if it could obtain more favorable terms, but a French official said President Emmanuel Macron told the American leader during a 5-minute telephone call that nothing in the Paris agreement was renegotiable. The official was not allowed to speak publicly on the matter before Macron addressed the issue later in the evening.\nParis City Hall was symbolically bathed in green light on Thursday night following the American president's announcement.\nU.N. Secretary-General Antonio Guterres called the U.S. withdrawal from the Paris climate agreement \"a major disappointment\" and said it was \"crucial that the United States remains a leader on environmental issues,\" according to his spokesman.\nItalian Premier Paolo Gentiloni said on Twitter that Italy will keep its commitments for reducing emissions, renewable energy and sustainable development.\nNorway's largest pension fund with 53 billion euro ($59.5 billion) in assets under its management said it would also continue to invest in renewable energy despite the American president's decision, saying in a statement that \"Donald Trump is jumping off a train that has already left the station.\"\nChief executive Odd Arild Grefstad cited the growth of renewable energy in U.S. states such as Texas, New York and California as signs that \"the world has started the transition from fossil to a renewable economy.\"\nIn Mexico, former President Vicente Fox criticized Trump's move, saying on Twitter: \"He's declaring war on the planet itself.\"\nFox, who has clashed with Trump since last year's presidential campaign, said the American leader's decision \"condemns this generation and those to come\" and would leave \"a dark legacy just to satisfy your greediness.\"\nMeanwhile, General Motors, the No. 1 U.S. automaker, said it would continue its commitment to \"creating a better environment.\" The automaker highlighted its development of the Chevrolet Bolt electric vehicle with 238 miles of range on a single charge and a net price of less than $30,000.\nBill Ford, chairman of the Ford Motor Co., also weighed in, saying: \"We believe climate change is real, and remain deeply committed to reducing greenhouse gas emissions in our vehicles and our facilities.\"\nBefore Trump announced his decision Thursday afternoon, Chinese Premier Li Keqiang told reporters during a visit to Berlin that fighting global warming was a \"global consensus\" and an \"international responsibility.\"\nWithout mentioning the U.S. specifically, Li said that \"China in recent years has stayed true to its commitment\" and pointed out that his was one of the first countries to ratify the 2015 Paris Agreement.\nGermany's Angela Merkel, who in the past has been dubbed the \"climate chancellor\" for her efforts to fight global warming, said her country would \"continue to fulfill our obligations under the Paris climate agreement as part of the European framework.\"\nFive Nordic countries wrote a last-minute letter to Trump before his announcement, saying the Paris accord was a commitment \"to our children.\"\n\"We must reduce global warming,\" the leaders of Denmark, Finland, Iceland, Norway and Sweden said in a short, joint missive. \"The effects are already visible in all parts of our planet.\"\nAbandoning the pact isolates the U.S. from a raft of international allies who spent years negotiating the accord to fight global warming and pollution by reducing carbon emissions.\nWhile traveling abroad last week, Trump was repeatedly pressed to stay in the deal by European leaders and Pope Francis. Withdrawing would leave the United States as one of just three countries outside the agreement. The other two are Syria and Nicaragua.\nRussia joined the chorus speaking out for the climate accord. Speaking to reporters on Thursday, a spokesman for President Vladimir Putin said Russia \"thinks highly\" of the accords and sees no alternative to it. Spokesman Dmitry Peskov added that its implementation will not be as effective \"without the key signatories.\"\nScientists say Earth is likely to reach more dangerous levels of warming sooner if the U.S. retreats from its pledge because America contributes so much to rising temperatures. Calculations suggest withdrawal could release up to 3 billion additional tons of carbon dioxide a year -- enough to melt ice sheets faster, raise seas higher and trigger more extreme weather."
          },
          "metadata": {}
        },
        {
          "output_type": "display_data",
          "data": {
            "text/plain": [
              "<IPython.core.display.Markdown object>"
            ],
            "text/markdown": "\n---\n"
          },
          "metadata": {}
        },
        {
          "output_type": "display_data",
          "data": {
            "text/plain": [
              "<IPython.core.display.Markdown object>"
            ],
            "text/markdown": "**Date Published:** 2017-06-01 20:15:00"
          },
          "metadata": {}
        },
        {
          "output_type": "display_data",
          "data": {
            "text/plain": [
              "<IPython.core.display.Markdown object>"
            ],
            "text/markdown": "**Outlet:** Fox News"
          },
          "metadata": {}
        },
        {
          "output_type": "display_data",
          "data": {
            "text/plain": [
              "<IPython.core.display.Markdown object>"
            ],
            "text/markdown": "**Headline:** paris agreement on climate change: world reaction to us pullout"
          },
          "metadata": {}
        },
        {
          "output_type": "display_data",
          "data": {
            "text/plain": [
              "<IPython.core.display.Markdown object>"
            ],
            "text/markdown": "**Body:**\nWorld leaders reacted with dismay Thursday to President Trump's announcement that he was pulling out of the Paris climate accord, while three prominent European heads of state rejected his suggestion that the deal could be renegotiated.\nFrench President Emmanuel Macron, German Chancellor Angela Merkel and and Italian Prime Minister Paolo Gentiloni said in a joint statement that they regretted the United States' decision to withdraw from the accord, but affirmed \"our strongest commitment\" to implement its measures and encouraged \"all our partners to speed up their action to combat climate change.\"\nWhile Trump said the United States would be willing to rejoin the accord if it could obtain more favorable terms, the three European leaders said the agreement cannot be renegotiated, \"since it is a vital instrument for our planet, societies and economics.\"\nMacron repeated that belief in an English-language speech from the Elysee presidential palace, unprecedented from a French president in an address at home. He said, \"I do respect this decision but I do think it is an actual mistake both for the U.S. and for our planet.\"\n\"Wherever we live, whoever we are, we all share the same responsibility: make our planet great again,\" Macron added.\nThe European Union's top climate change official, Miguel Arias Canente, said in a statement that Trump's decision to leave the Paris accord made it \"a sad day for the global community,\" adding that the bloc \"deeply regrets the unilateral decision.\"\nCanete also predicted that the EU would seek new alliances from the world's largest economies to the most vulnerable island states, as well as U.S. businesses and individuals supportive of the accord.\nU.N. Secretary-General Antonio Guterres called the U.S. withdrawal from the Paris climate agreement \"a major disappointment\" and said it was \"crucial that the United States remains a leader on environmental issues,\" according to his spokesman.\nNorway's largest pension fund with 53 billion euro ($59.5 billion) in assets under its management said it would continue to invest in renewable energy despite the American president's decision, saying in a statement that \"Donald Trump is jumping off a train that has already left the station.\"\nChief executive Odd Arild Grefstad cited the growth of renewable energy in U.S. states such as Texas, New York and California as signs that \"the world has started the transition from fossil to a renewable economy.\"\nIn Mexico, former President Vicente Fox criticized Trump's move, saying on Twitter: \"He's declaring war on the planet itself.\"\nFox, who has clashed with Trump since last year's presidential campaign, said the U.S. leader's decision \"condemns this generation and those to come\" and would leave \"a dark legacy just to satisfy your greediness.\"\nBill Ford, chairman of the Ford Motor Co., also weighed in, saying: \"We believe climate change is real, and remain deeply committed to reducing greenhouse gas emissions in our vehicles and our facilities.\"\nBefore Trump announced his decision Thursday afternoon, Chinese Premier Li Keqiang told reporters during a visit to Berlin that fighting global warming was a \"global consensus\" and an \"international responsibility.\"\nWithout mentioning the U.S. specifically, Li said that \"China in recent years has stayed true to its commitment\" and pointed out that his was one of the first countries to ratify the 2015 Paris Agreement.\nWhile traveling abroad last week, Trump was repeatedly pressed to stay in the deal by European leaders and Pope Francis.\nWithdrawing would leave the United States as one of just three countries outside the agreement. The other two are Syria and Nicaragua.\nRussia joined the chorus speaking out for the climate accord. Speaking to reporters on Thursday before Trump's decision was announced, a spokesman for President Vladimir Putin said Russia \"thinks highly\" of the accords and sees no alternative to it.\nSpokesman Dmitry Peskov added that its implementation will not be as effective \"without the key signatories.\"\nScientists say Earth is likely to reach more dangerous levels of warming sooner if the U.S. retreats from its pledge because America contributes so much to rising temperatures. Calculations suggest withdrawal could release up to 3 billion additional tons of carbon dioxide a year -- enough to melt ice sheets faster, raise seas higher and trigger more extreme weather.\nThe Associated Press contributed to this report."
          },
          "metadata": {}
        },
        {
          "output_type": "display_data",
          "data": {
            "text/plain": [
              "<IPython.core.display.Markdown object>"
            ],
            "text/markdown": "\n---\n"
          },
          "metadata": {}
        },
        {
          "output_type": "display_data",
          "data": {
            "text/plain": [
              "<IPython.core.display.Markdown object>"
            ],
            "text/markdown": "**Date Published:** 2017-09-11 10:22:43"
          },
          "metadata": {}
        },
        {
          "output_type": "display_data",
          "data": {
            "text/plain": [
              "<IPython.core.display.Markdown object>"
            ],
            "text/markdown": "**Outlet:** Breitbart"
          },
          "metadata": {}
        },
        {
          "output_type": "display_data",
          "data": {
            "text/plain": [
              "<IPython.core.display.Markdown object>"
            ],
            "text/markdown": "**Headline:** pope francis: people have a ‘moral responsibility’ to combat climate change"
          },
          "metadata": {}
        },
        {
          "output_type": "display_data",
          "data": {
            "text/plain": [
              "<IPython.core.display.Markdown object>"
            ],
            "text/markdown": "**Body:**\n“Whoever denies climate change should ask the scientists, who speak with great clarity and precision on this,” Francis told reporters during his flight back to Rome from Colombia.\nAsked by a journalist whether there is “a moral responsibility for political leaders who deny that climate change is the work of man and refuse to cooperate with other nations” (in an evident reference to President Trump’s decision to withdraw from the Paris climate accord), the Pope said that “climate change can be seen in its effects and we all have a moral responsibility in making decisions.”\nadvertisement\n“The other day came the news of that Russian ship that went from Norway to Japan and crossed the North Pole without finding ice,” Francis said. He was referring to reports in August that a Russian tanker had become the first merchant ship to sail across the Arctic without the help of an icebreaker, sailing from Norway to South Korea in 19 days.\nIt perhaps should be mentioned that the ship he was discussing, named the Christophe de Margerie, is a brand new design (2016) of icebreaking LNG carrier, which features an ice-strengthened hull structure using E-grade high-tensile special steel. Covered with 7cm of steel plates, the bow is able to break through ice up to 1.5 meters thick.\nIn other words, it’s not exactly that the ship saw no ice in the Arctic, but it was the first to break through it without the assistance of a separate icebreaker.\nIn his Q&A, the Pope went on to speak of a climate change report that asserted “we only have three years to turn back, or there will be terrible consequences.”\n“I do not know if the three years are true or not, but if we do not go back, we are going down!” Francis said. “Climate change is seen in its effects, and we all have a moral responsibility in making decisions. I think it’s a very serious thing.”\nIn this case, Francis was referring to an article appearing in Nature magazine in June called “Three Years to Safeguard our Climate.” The essay was written by Christiana Figueres, vice-chair of the Global Covenant of Mayors for Climate and Energy, along with five other authors.\nIn their article, the authors cite an earlier report which asserted that if carbon dioxide emissions continue to rise beyond 2020, or even remain level, “the temperature goals set in Paris become almost unattainable” and the UN Sustainable Development Goals agreed upon in 2015 would also “be at grave risk.”\nIn his evaluation of climate change, Pope Francis said: “Each person has his own moral responsibility and the politicians have theirs. Let each one ask the scientists and then decide. History will judge their decisions.”\nPressed further by another journalist for his opinion on why governments are so slow to act on climate change, the Pope made reference to the Bible.\n“A line from the Old Testament comes to my mind: man is stupid, a stubborn one who does not see. He is the only animal that falls into the same pit twice,” Francis said, although it was not immediately evident to what biblical passage he was referring.\nFollow Thomas D. Williams on Twitter Follow @tdwilliamsrome"
          },
          "metadata": {}
        },
        {
          "output_type": "display_data",
          "data": {
            "text/plain": [
              "<IPython.core.display.Markdown object>"
            ],
            "text/markdown": "\n---\n"
          },
          "metadata": {}
        },
        {
          "output_type": "display_data",
          "data": {
            "text/plain": [
              "<IPython.core.display.Markdown object>"
            ],
            "text/markdown": "**Date Published:** 2017-10-16 02:19:25"
          },
          "metadata": {}
        },
        {
          "output_type": "display_data",
          "data": {
            "text/plain": [
              "<IPython.core.display.Markdown object>"
            ],
            "text/markdown": "**Outlet:** Breitbart"
          },
          "metadata": {}
        },
        {
          "output_type": "display_data",
          "data": {
            "text/plain": [
              "<IPython.core.display.Markdown object>"
            ],
            "text/markdown": "**Headline:** pope francis: ‘wars and climate change’ are root causes of world hunger and migration"
          },
          "metadata": {}
        },
        {
          "output_type": "display_data",
          "data": {
            "text/plain": [
              "<IPython.core.display.Markdown object>"
            ],
            "text/markdown": "**Body:**\nPope Francis addressed the FAO Monday on the question of world hunger, proposing that wars and climate change must be overcome in order to properly address the crisis of world hunger and immigration.\n“The relationship between hunger and migrations can only be addressed if we go to the root of the problem,” the Pope said at the headquarters of the Food and Agricultural Organization (FAO) in Rome. “In this regard, studies conducted by the United Nations, like many others conducted by civil organizations, agree that there are two major obstacles that must be overcome: conflicts and climate change.”\nadvertisement\nThe pontiff expressed his optimistic view that scientists have discovered how to contain climate change and require only the political will of world leaders.\n“Concerning climate change, we see its consequences every day,” Francis said. “Thanks to scientific knowledge, we know how to deal with the problem and the international community has also been preparing necessary legal instruments, such as, for example, the Paris Accord.”\nThe Pope added that “unfortunately, some are distancing themselves” from the Paris agreement, in evident reference to the United States, since it is the only nation apart from Nicaragua and Syria not to adhere to the pact, and the only one to actually withdraw.\nDespite scientific knowledge on how to address the problem, “we see the reappearance of negligence regarding the delicate balance of ecosystems, the arrogance to manipulate and control the planet’s resources, and greed for profit,” Francis said.\nThe pontiff suggested that a change in lifestyles is needed to protect the poor and helpless from the worst effects of climate change.\n“It is therefore necessary to strive for concrete and practical consensus if we wish to avoid the most tragic effects, which will continue to fall on poor and helpless people,” Francis said. “We are called to propose a change in lifestyles, in the use of resources, on the criteria of production, and even of consumption, which concerning food reveals an increase of losses and waste.”\n“We cannot sit back and tell ourselves ‘someone else will do it,’” he said.\nWhile science and technology are increasingly able to give answers to the desires of the human family, Francis said, their achievements “fail to eliminate the exclusion of much of the world’s population.”\n“How many are victims of malnutrition, wars and climate change?” Francis asked, suggesting that these factors are at the root of many people being “forced to leave their land, exposing themselves to many and terrible forms of exploitation.”\nThe FAO itself recently made the remarkable claim that “millions are forced to migrate due to climate change.”\nMillions are forced to migrate due to climate change. Laxmi & hundreds of other Nepali #ruralwomen now have a choice.#WFD2017 #Migration pic.twitter.com/tJXTZwuFHf — FAOKnowledge (@FAOKnowledge) October 15, 2017\nAdequately addressing and resolving armed conflicts and climate change are “the conditions for any serious discussion on food security related to the phenomenon of migration,” the Pope said.\n“It is clear that wars and climate change cause hunger, so we must avoid treating it like an incurable disease,” he added, before noting that studies from the FAO “foresee increased global production of cereals, reaching levels that enable to give greater consistency to the reserves.”\nReturning to the question of mass migrations, Francis said that nothing will stop people from moving until the root causes such as climate change are solved. How it is possible to “detain people willing to risk it all, entire generations that may disappear because they don’t have their daily bread, or are victims of violence or climate change?”\n“They move to where they see a light or perceive a hope for their life,” the Pope said. “They will not be stopped by physical, economic, legislative and ideological barriers. Only a consistent application of the principle of humanity can achieve it.”\nLast week, Argentinian Bishop Marcelo Sanchez Sorondo, papal advisor and Chancellor of the Pontifical Academy of Sciences, said that “real” happiness can only come from pursuing higher values, such as “environmental sustainability.”\nFollow Thomas D. Williams on Twitter Follow @tdwilliamsrome"
          },
          "metadata": {}
        },
        {
          "output_type": "display_data",
          "data": {
            "text/plain": [
              "<IPython.core.display.Markdown object>"
            ],
            "text/markdown": "\n---\n"
          },
          "metadata": {}
        },
        {
          "output_type": "display_data",
          "data": {
            "text/plain": [
              "<IPython.core.display.Markdown object>"
            ],
            "text/markdown": "**Date Published:** 2017-10-27 05:10:01"
          },
          "metadata": {}
        },
        {
          "output_type": "display_data",
          "data": {
            "text/plain": [
              "<IPython.core.display.Markdown object>"
            ],
            "text/markdown": "**Outlet:** Breitbart"
          },
          "metadata": {}
        },
        {
          "output_type": "display_data",
          "data": {
            "text/plain": [
              "<IPython.core.display.Markdown object>"
            ],
            "text/markdown": "**Headline:** german cardinal: number-one challenge facing europe is ‘climate change’"
          },
          "metadata": {}
        },
        {
          "output_type": "display_data",
          "data": {
            "text/plain": [
              "<IPython.core.display.Markdown object>"
            ],
            "text/markdown": "**Body:**\nIn launching an international Vatican conference on the future of Europe on Friday, German Cardinal Reinhard Marx listed off his idea of the three greatest challenges facing Europe, the first of which was “climate change.”\n“The European Union and all of Europe find themselves facing great challenges,” the Cardinal said at a press conference Friday morning, “for which citizens expect, if not conclusive answers, at least clear objectives and prospects from their politicians and from politics.”\nadvertisement\nThe Vatican forum titled “(Re)thinking Europe: A Christian contribution to the future of the European Project” is billed as “a high level dialogue between Church and political actors” and is co-organized by the Commission of the Bishops’ Conferences of the European Community (COMECE) and the Holy See.\nAs the first of the three challenges on his list, Marx named: “Climate change and the attendant need to change our unsustainable lifestyle in the mid-term. United to this is the problem of the costs of ecological change and their distribution.”\nThe other two great challenges, Marx declared, are “changes in the world of work” such as digitalization and robotics, and Europe’s migrant crisis.\nIn placing “climate change” as the number-one problem facing Europe, Cardinal Marx was echoing the general sentiment of the German people. A study published last August found that “climate change” was the major concern of more than 70 percent of Germans, while less than half of those polled ranked mass migration as a cause for anxiety.\nCuriously, in his analysis the prelate made no mention of the deep crisis in the German Catholic Church, which has been hemorrhaging members over the past 20 years.\nAs Breitbart News reported last August, the progressive Catholic Church in Germany lost an additional 160,000 members in 2016, and 537 parishes were closed down. Since 1996, the Catholic population in Germany has shrunk from 27,533,000 to 23,582,000—a decline of over 14 percent.\nThe situation of the German Church is so problematic that in 2015 Pope Francis cited statistic after statistic before a group of German bishops, asking why the Church in Germany is in freefall.\nCiting “a drastic drop in Sunday Mass attendance” and in the whole of Catholic sacramental life in Germany, especially in traditionally Catholic areas, the Pope wondered aloud what was going on in Germany.\n“Whereas in the 1960s wherever you went almost every Catholic participated in Sunday Mass,” he said, “nowadays it’s often less than ten percent. Fewer and fewer receive the sacraments and the Sacrament of Penance [confession] has all but disappeared.”\n“Fewer and fewer Catholics receive the Sacrament of Confirmation or get married in church,” he added, “and the number of vocations to the priesthood and consecrated life is severely diminished.”\nRegarding climate change, Chancellor Angela Merkel had successfully positioned Germany as an international climate leader with her ambitious “Energiewende” (energy transition) program, which moves the country away from fossil fuels toward renewable, clean energy. The program also included the elimination of nuclear power by the year 2022.\nA comprehensive study published in Energy Policy in 2013, criticized the program, however, declaring that the phasing out of Germany’s nuclear reactors is contradictory to the goal of the climate portion of the program, since nuclear is currently one of the cleanest and least expensive forms of energy available.\nMoreover, Energiewende has doubled electricity prices, which many analysts believe contributed to Merkel’s poor showing in last month’s national elections. Costs of the program now total some €650 billion, a bill that weighs heavily on the shoulders of German taxpayers.\nDespite its gusto for anti-climate change regulations, Germany has now fallen “hopelessly behind in meeting its carbon targets,” according to reports.\nLate last year, the Germans had to be bailed out of a small energy crisis by Poland when the wind stopped blowing for several days and a thick fog covered many parts of Germany, which drove the output from renewables to just 4 percent of total demand.\nIt was coal-fueled Poland that had to rescue Germany from its self-induced energy crisis.\nFollow Thomas D. Williams on Twitter Follow @tdwilliamsrome"
          },
          "metadata": {}
        },
        {
          "output_type": "display_data",
          "data": {
            "text/plain": [
              "<IPython.core.display.Markdown object>"
            ],
            "text/markdown": "\n---\n"
          },
          "metadata": {}
        },
        {
          "output_type": "display_data",
          "data": {
            "text/plain": [
              "<IPython.core.display.Markdown object>"
            ],
            "text/markdown": "**Date Published:** 2017-11-16 04:16:15"
          },
          "metadata": {}
        },
        {
          "output_type": "display_data",
          "data": {
            "text/plain": [
              "<IPython.core.display.Markdown object>"
            ],
            "text/markdown": "**Outlet:** Breitbart"
          },
          "metadata": {}
        },
        {
          "output_type": "display_data",
          "data": {
            "text/plain": [
              "<IPython.core.display.Markdown object>"
            ],
            "text/markdown": "**Headline:** pope francis: climate change skepticism is ‘perverse’"
          },
          "metadata": {}
        },
        {
          "output_type": "display_data",
          "data": {
            "text/plain": [
              "<IPython.core.display.Markdown object>"
            ],
            "text/markdown": "**Body:**\nHumanity is currently experiencing a “climate emergency,” Pope Francis said, while decrying denial of human-induced climate change as a perverse attitude that endangers all.\n“We need a conversation that unites us all, because the environmental challenge we are experiencing, and its human roots, affects us all,” Francis said in a statement to the COP23 UN Climate Change summit taking place this week in Bonn, Germany.\nadvertisement\nFour “perverse” attitudes that obstruct the quest for concrete solutions to the problem of climate change “range from denial of the problem to indifference, nonchalant resignation, or blind trust in technical solutions,” he said.\nThese perverse attitudes, Francis said, “certainly do not help honest research and sincere and fruitful dialogue on building the future of our planet: denial, indifference, resignation and trust in inadequate solutions.”\nIn his message, the Pope said that climate change is “one of the most worrisome phenomena that humanity is facing,” while praising the Paris Accord on reducing carbon dioxide as a “historic” agreement.\nThe agreement, he said, “indicates a clear transition path towards an economic development model of low- or zero-carbon consumption, encouraging solidarity and taking advantage of the close links between the fight against climate change and that against poverty.”\nThis transition was further prompted by the current “climate emergency,” which calls for greater commitment from the nations of the world, he said.\nThe Pope encouraged those meeting in Bonn, describing the proceedings as an “important phase of the Paris agreement.”\n“In such a process it is necessary to keep the willingness to cooperate high,” he said.\nWhile technical solutions to the problem of climate change are necessary, the Pope said, they are “not sufficient” without taking into consideration “the ethical and social aspects and impacts of the new paradigm of development.”\nThe Pope told the participants that they have a “serious responsibility to act without delay, in the freest way possible in relation to political and economic pressures, overcoming particular interests and behavior.”\nThe Pope ended his message by expressing his hope that the members of the conference will “consolidate the willingness to adopt truly effective decisions to combat the phenomenon of climate change.”\nLast June, President Trump announced the withdrawal of the United States from the Paris Climate Accord, saying that it gravely disadvantaged American workers.\nThe U.S. will immediately “cease all implementation of the non-binding Paris Accord and the draconian financial and economic burdens the agreement imposes on our country,” he said.\n“This agreement is less about the climate and more about other countries gaining a financial advantage over the United States,” he said.\nNot long after, the World Council of Churches (WCC) censured the President for his decision, stating that the move “has grave consequences for the impoverished and vulnerable, for our children’s children, and for the entire planet, putting at risk people’s access to clean water, food, shelter and secure livelihoods, and undermining efforts for environmental sustainability and for peace.”\nIn assessing the reactions to the President’s decision, Washington Post columnist Charles Krauthammer said the hysterical response showed that it had become “an issue of almost religious belief” to the Left, while Minority Leader Rep. Nancy Pelosi (D-CA), said that Trump’s decision was a “dishonor” to God.\nLast month, the prestigious Lancet journal revealed that pollution-related diseases were responsible for an estimated 9 million premature deaths in 2015, or some 15 times more than from all wars and other forms of violence combined.\nWhile to date there has not been a single documented case of a person being killed by carbon dioxide related “global warming,” real pollution of air, water and land is killing an average of 25,000 people every day across the globe.\nPollution is not only the largest environmental cause of disease and premature death in the world today, the study in the UK-based journal found, but diseases caused by pollution are responsible for roughly 16 percent of all deaths worldwide—“three times more deaths than from AIDS, tuberculosis, and malaria combined and 15 times more than from all wars and other forms of violence.”\nDespite the immense devastation wrought by pollution, the powerful of the world seem determined to ignore it in favor of an ideologically driven crusade against “global warming.”\n“Despite its substantial effects on human health, the economy, and the environment, pollution has been neglected, especially in low-income and middle-income countries, and the health effects of pollution are under-estimated in calculations of the global burden of disease,” the Lancet stated.\nThis health damage from pollution “has particularly been overlooked in both the international development and the global health agendas,” the report declared.\nWhile the Paris Climate Accord deals at length with reducing greenhouse gas emissions, it never once mentions the word “pollution” in the entire 27-page document.\nFollow Thomas D. Williams on Twitter Follow @tdwilliamsrome"
          },
          "metadata": {}
        },
        {
          "output_type": "display_data",
          "data": {
            "text/plain": [
              "<IPython.core.display.Markdown object>"
            ],
            "text/markdown": "\n---\n"
          },
          "metadata": {}
        },
        {
          "output_type": "display_data",
          "data": {
            "text/plain": [
              "<IPython.core.display.Markdown object>"
            ],
            "text/markdown": "**Date Published:** 2017-11-16 10:07:00"
          },
          "metadata": {}
        },
        {
          "output_type": "display_data",
          "data": {
            "text/plain": [
              "<IPython.core.display.Markdown object>"
            ],
            "text/markdown": "**Outlet:** Fox News"
          },
          "metadata": {}
        },
        {
          "output_type": "display_data",
          "data": {
            "text/plain": [
              "<IPython.core.display.Markdown object>"
            ],
            "text/markdown": "**Headline:** pope francis says those who deny climate change have 'perverse attitudes'"
          },
          "metadata": {}
        },
        {
          "output_type": "display_data",
          "data": {
            "text/plain": [
              "<IPython.core.display.Markdown object>"
            ],
            "text/markdown": "**Body:**\nPope Francis blasted global warming skeptics on Thursday as having \"perverse attitudes.\"\nThe pontiff, during remarks made to negotiators at climate talks in Germany, called climate change \"one of the most worrisome phenomena that humanity is facing.\" He added efforts to combat climate change are held back by those who deny the science behind it, are indifferent or resigned to it, or think it can be solved by technical solutions.\n\"We must avoid falling into these four perverse attitudes, which certainly don't help honest research and sincere, productive dialogue,\" he said.\nHe urged negotiators at the Bonn meeting to take action free of special interests and political or economic pressures, and to instead engage in an honest dialogue about the future of the planet.\nNegotiators at the Bonn meeting are working to implement the 2015 Paris Climate Accord aimed at capping global emissions.\nThe pope did not cite any countries by name, but President Trump previously announced the United States is withdrawing from the Paris accord.\nIn 2016, Francis said global warming is \"mainly\" due to human activity and he called for fossil fuels to be progressively phased out without delay.\nThe Associated Press contributed to this report."
          },
          "metadata": {}
        },
        {
          "output_type": "display_data",
          "data": {
            "text/plain": [
              "<IPython.core.display.Markdown object>"
            ],
            "text/markdown": "\n---\n"
          },
          "metadata": {}
        },
        {
          "output_type": "display_data",
          "data": {
            "text/plain": [
              "<IPython.core.display.Markdown object>"
            ],
            "text/markdown": "**Date Published:** 2018-03-10 01:07:21"
          },
          "metadata": {}
        },
        {
          "output_type": "display_data",
          "data": {
            "text/plain": [
              "<IPython.core.display.Markdown object>"
            ],
            "text/markdown": "**Outlet:** Breitbart"
          },
          "metadata": {}
        },
        {
          "output_type": "display_data",
          "data": {
            "text/plain": [
              "<IPython.core.display.Markdown object>"
            ],
            "text/markdown": "**Headline:** evangelical christian: climate change is ‘the greatest humanitarian crisis of our times’"
          },
          "metadata": {}
        },
        {
          "output_type": "display_data",
          "data": {
            "text/plain": [
              "<IPython.core.display.Markdown object>"
            ],
            "text/markdown": "**Body:**\nHailed as “a climate change evangelist,” Katharine Hayhoe believes that her Christian faith obliges her to preach the word about climate change, especially to climate skeptics.\nAn atmospheric scientist and evangelical Christian, Hayhoe is a firm believer in manmade climate change and recently addressed a UN-sponsored climate change conference in Edmonton, Alberta, on the woes that await the human race if global warming is not curbed.\nHayhoe teaches political science at Texas Tech University and is also the CEO of the consulting firm ATMOS Research and Consulting, which specializes in preparing organizations of all sorts to face the impact of anthropogenic climate change.\nAcknowledging her life both as a Christian and a climate change believer is “like coming out of the closet,” Hayhoe has said.\n“I study climate change because I think it’s the greatest humanitarian crisis of our times,” she told Reuters. “It exacerbates poverty and hunger and disease and civil conflicts and refugee crises.”\nClimate change activists have warmly welcomed Hayhoe into their fold, hoping that she will be able to make headway in convincing her fellow evangelicals—many of whom are climate-change skeptics—that manmade climate change is real.\nWhile a majority of evangelicals continue to question the existence of human-caused climate change, Hayhoe is not completely alone. Groups like the Evangelical Environmental Network, the Evangelical Climate Initiative, and Young Evangelicals for Climate Action have adopted similar programs.\nHer street creds are good, having converted her skeptical evangelical husband to belief that human activity is driving global warming in a patient process lasting two years.\nAt the same time, Hayhoe reportedly took no questions from climate change skeptics during her talk at the Edmonton conference.\nTIME magazine named Hayhoe to their list of the 100 most influential people for her work in defending climate change, in which actor Don Cheadle praised her as “a smart person who defies stereotype.”\nHayhoe thinks that American’s resistance to climate change has more to do with “the perceived solutions” such as taxes, government legislation, and loss of personal liberty than with the theory of climate change and its causes.\nIn January of this year, author Kenneth Richard conducted a broad survey of climate change literature for 2017 and found that the alleged “consensus” behind the dangers of anthropogenic global warming is not nearly as settled among climate scientists as people imagine.\nThe study revealed that during the course of the year 2017, at least 485 scientific papers were published that in some way questioned the supposed consensus regarding the perils of human CO2 emissions or the efficacy of climate models to predict the future.\nAccording to Richard’s analysis, the 485 new papers underscore the “significant limitations and uncertainties inherent in our understanding of climate and climate changes,” which in turn suggests that climate science is not nearly as settled as media reports and some policymakers would have people believe.\nThe papers questioned everything from the relative role of natural mechanisms in changes to the climate system vis-à-vis increased CO2 concentrations, the allegedly “unprecedented” nature of modern climate phenomena such as warming, sea levels, glacier and sea ice retreat, and the efficacy and reliability of computer climate models for projecting future climate states.\nFor his part, Pope Francis has declared that humanity is currently experiencing a “climate emergency,” while calling climate change skepticism “perverse.”\nFollow Thomas D. Williams on Twitter Follow @tdwilliamsrome"
          },
          "metadata": {}
        },
        {
          "output_type": "display_data",
          "data": {
            "text/plain": [
              "<IPython.core.display.Markdown object>"
            ],
            "text/markdown": "\n---\n"
          },
          "metadata": {}
        },
        {
          "output_type": "display_data",
          "data": {
            "text/plain": [
              "<IPython.core.display.Markdown object>"
            ],
            "text/markdown": "**Date Published:** 2018-07-05 01:10:32"
          },
          "metadata": {}
        },
        {
          "output_type": "display_data",
          "data": {
            "text/plain": [
              "<IPython.core.display.Markdown object>"
            ],
            "text/markdown": "**Outlet:** Breitbart"
          },
          "metadata": {}
        },
        {
          "output_type": "display_data",
          "data": {
            "text/plain": [
              "<IPython.core.display.Markdown object>"
            ],
            "text/markdown": "**Headline:** al gore says pope francis is his ‘inspiration’ in fighting climate change"
          },
          "metadata": {}
        },
        {
          "output_type": "display_data",
          "data": {
            "text/plain": [
              "<IPython.core.display.Markdown object>"
            ],
            "text/markdown": "**Body:**\nFormer U.S. Vice President, Al Gore, said he is “thrilled” by Pope Francis’ leadership in the battle against climate change in an interview with Vatican News Wednesday.\nEmploying apocalyptic language, Gore said the climate crisis is “the biggest existential challenge humanity has ever faced,” and warned that “up to half of all the living species with which we share this earth are in danger of extinction during this century.”\nMr. Gore, who has been called out for failed prophecies, half-truths, bad science, and neo-Malthusian doomsday propaganda, continues to enjoy celebrity among many committed climate alarmists.\nIn his interview with Vatican News, Gore heaped praise on Pope Francis, saying that the pope’s leadership “has been an inspiration to all of us across the world, particularly when it comes to his strong and repeated emphasis on solving the climate crisis.”\n“In particular, his papal encyclical, Laudato si’, marked a crucial step for the Catholic church in leading the world to commit to addressing the climate crisis ahead of the Paris Agreement,” Gore said.\n“In these and many other ways, the Pope has been at the forefront in leading the world toward constructive climate action. Virtually all of my Catholic colleagues and friends are thrilled to the marrow of their bones that he is providing this kind of spiritual leadership. As am I,” he added.\nThe pope’s vocal opposition to manmade climate change is not only crucial for Catholics, Gore said, but serves as an example for other spiritual leaders.\n“The Pope is a model for leaders of other faith traditions to communicate the dangers posed by the climate crisis and our duty as stewards of God’s creation to solve it,” he said.\nAs he often does, Mr. Gore confused air pollution with CO2-induced climate change in his interview, and then went on to tie the two to race issues.\nIn the United States, Gore stated, “African American children are three-times more likely than the overall population to suffer from diseases related to air pollution, are twice as likely to have asthma and ten times more likely to die from asthma than are children from the majority community.”\nWhat this has to do with climate change is anybody’s guess, since carbon dioxide is non-toxic and is unrelated to asthma.\nGore’s 2007 documentary film, “An Inconvenient Truth,” was given an Oscar and showered in Hollywood accolades, though it also received its share of criticism.\n“A general characteristic of Mr. Gore’s approach is to assiduously ignore the fact that the earth and its climate are dynamic; they are always changing even without any external forcing,” Richard S. Lindzen wrote in the Wall Street Journal. “To treat all change as something to fear is bad enough; to do so in order to exploit that fear is much worse.”\nThe former vice president followed up with a 2017 sequel titled “An Inconvenient Sequel: Truth to Power” that did not fare so well, even in Hollywood circles where climate change is the cause du jour.\n“The documentary follow-up proves to be less about global warming than propping up a hero awkwardly desperate to captivate audiences again like he did eleven years ago,” wrote Nick Allen on RogerEbert.com.\n“It’s like the Zoolander 2 of global warming documentaries,” he said.\nDespite resistance, Mr. Gore seems shows no signs of flagging in his crusade against manmade global warming.\n“I have been fortunate to be able to pour every ounce of energy I have into efforts to contribute to the solution to his crisis,” he told Vatican News.\nFollow Thomas D. Williams on Twitter Follow @tdwilliamsrome"
          },
          "metadata": {}
        },
        {
          "output_type": "display_data",
          "data": {
            "text/plain": [
              "<IPython.core.display.Markdown object>"
            ],
            "text/markdown": "\n---\n"
          },
          "metadata": {}
        },
        {
          "output_type": "display_data",
          "data": {
            "text/plain": [
              "<IPython.core.display.Markdown object>"
            ],
            "text/markdown": "**Date Published:** 2018-07-06 07:14:33"
          },
          "metadata": {}
        },
        {
          "output_type": "display_data",
          "data": {
            "text/plain": [
              "<IPython.core.display.Markdown object>"
            ],
            "text/markdown": "**Outlet:** Fox News"
          },
          "metadata": {}
        },
        {
          "output_type": "display_data",
          "data": {
            "text/plain": [
              "<IPython.core.display.Markdown object>"
            ],
            "text/markdown": "**Headline:** pope warns climate change turning earth into desert, garbage"
          },
          "metadata": {}
        },
        {
          "output_type": "display_data",
          "data": {
            "text/plain": [
              "<IPython.core.display.Markdown object>"
            ],
            "text/markdown": "**Body:**\nPope Francis urged governments on Friday to make good on their commitments to curb global warming, warning that climate change, continued unsustainable development and rampant consumption threatens to turn the Earth into a vast pile of \"rubble, deserts and refuse.\"\nFrancis made the appeal at a Vatican conference marking the third anniversary of his landmark environmental encyclical \"Praise Be.\" The document, meant to spur action at the 2015 Paris climate conference, called for a paradigm shift in humanity's relationship with Mother Nature.\nIn his remarks, Francis urged governments to honor their Paris commitments and said institutions like the IMF and World Bank had important roles to play in encouraging reforms promoting sustainable development.\n\"There is a real danger that we will leave future generations only rubble, deserts and refuse,\" he warned.\nThe Paris accord, reached by 195 countries, seeks to avoid some of the worst effects of climate change by curbing global greenhouse gas emissions via individual, nonbinding national plans. U.S. President Donald Trump has said the U.S. will pull out of the accord negotiated by his predecessor unless he can get a better deal.\nFriday's conference was the latest in a series of Vatican initiatives meant to impress a sense of urgency about global warming and the threat it poses in particular to the world's poorest and most marginalized people.\nRecently, Francis invited oil executives and investors to the Vatican for a closed-door conference where he urged them to find alternatives to fossil fuels. He warned that climate change was a challenge of \"epochal proportions.\"\nAnd next year, Francis has called a three-week synod, or meeting of bishops, specifically to address the church's response to the ecological crisis in the Amazon, where deforestation threatens what he has called the \"lung\" of the planet and the indigenous peoples who live there.\n\"It grieves us to see the lands of indigenous peoples expropriated and their cultures trampled on by predatory schemes and by new forms of colonialism, fueled by the culture of waste and consumerism,\" Francis said Friday."
          },
          "metadata": {}
        },
        {
          "output_type": "display_data",
          "data": {
            "text/plain": [
              "<IPython.core.display.Markdown object>"
            ],
            "text/markdown": "\n---\n"
          },
          "metadata": {}
        },
        {
          "output_type": "display_data",
          "data": {
            "text/plain": [
              "<IPython.core.display.Markdown object>"
            ],
            "text/markdown": "**Date Published:** 2018-11-12 15:37:55"
          },
          "metadata": {}
        },
        {
          "output_type": "display_data",
          "data": {
            "text/plain": [
              "<IPython.core.display.Markdown object>"
            ],
            "text/markdown": "**Outlet:** Breitbart"
          },
          "metadata": {}
        },
        {
          "output_type": "display_data",
          "data": {
            "text/plain": [
              "<IPython.core.display.Markdown object>"
            ],
            "text/markdown": "**Headline:** ‘climate change’ and nuclear war threaten the world"
          },
          "metadata": {}
        },
        {
          "output_type": "display_data",
          "data": {
            "text/plain": [
              "<IPython.core.display.Markdown object>"
            ],
            "text/markdown": "**Body:**\nPope Francis highlighted on Monday what he considers two main threats to humanity, namely the “immense crisis” of global warming and the possibility of nuclear war.\nIn his address to the Pontifical Academy of Sciences, the pope urged his listeners to do all they can to assist humanity in facing the most pressing threats facing the planet, noting that in the first place these are “the immense and ongoing crisis of climate change and the nuclear menace.”\nHuman actions are at the root of many global changes, the pontiff insisted, especially where climate change is concerned. “Hence there is also a need for adequate responses aimed at protecting the health of the planet and its inhabitants, a health put at risk by all those human activities that employ fossil fuels and deforest the planet.”\nJust as the scientific community, he said, “has made progress in identifying these risks, it is now called to propose workable solutions and to convince societies and their leaders to pursue them.”\nPope Francis has made the war on climate change one of the hallmarks of his pontificate, never missing an opportunity to decry the evils of global warming and the human activities he believes are its root cause.\nFrancis was the first pope in history to write an encyclical letter, called Laudato Si, on the topic of care for the environment, in which he declared that the earth “is beginning to look more and more like an immense pile of filth” as “once beautiful landscapes are now covered with rubbish.”\nHe also identified the destruction of “biological diversity” and the degradation of the integrity of the earth “by causing changes in its climate” as “sins.”\nLast November, Francis declared that humanity is undergoing a “climate emergency,” while denouncing skepticism toward man-made climate change as a “perverse” attitude that endangers the world.\n“We need a conversation that unites us all, because the environmental challenge we are experiencing, and its human roots, affects us all,” Francis said.\nFour “perverse” attitudes that obstruct the quest for concrete solutions to the problem of climate change “range from denial of the problem to indifference, nonchalant resignation, or blind trust in technical solutions,” he said.\nIn July, the pontiff said that “radical change” in human behavior is needed to beat global warming while calling on mankind to hear “the increasingly desperate cries of the earth.”\nImmediate action is needed to save the planet from being reduced to “rubble,” he said.\nThe pope emphasized the “urgent need” for an “ecological conversion” as well as “concrete steps to save the planet.”\nOur planet “needs urgently to be repaired and secured for a sustainable future,” the pope warned.\nPope Francis has publicly proclaimed his belief that “wars and climate change” are the root causes of world hunger and mass migration.\nFollow Thomas D. Williams on Twitter Follow @tdwilliamsrome"
          },
          "metadata": {}
        },
        {
          "output_type": "display_data",
          "data": {
            "text/plain": [
              "<IPython.core.display.Markdown object>"
            ],
            "text/markdown": "\n---\n"
          },
          "metadata": {}
        },
        {
          "output_type": "display_data",
          "data": {
            "text/plain": [
              "<IPython.core.display.Markdown object>"
            ],
            "text/markdown": "**Date Published:** 2018-12-04 22:07:25"
          },
          "metadata": {}
        },
        {
          "output_type": "display_data",
          "data": {
            "text/plain": [
              "<IPython.core.display.Markdown object>"
            ],
            "text/markdown": "**Outlet:** Breitbart"
          },
          "metadata": {}
        },
        {
          "output_type": "display_data",
          "data": {
            "text/plain": [
              "<IPython.core.display.Markdown object>"
            ],
            "text/markdown": "**Headline:** vatican: ‘great sense of urgency’ to battle climate change"
          },
          "metadata": {}
        },
        {
          "output_type": "display_data",
          "data": {
            "text/plain": [
              "<IPython.core.display.Markdown object>"
            ],
            "text/markdown": "**Body:**\nAn attitude of “denial” of the perils of climate change “must not prevail” if mankind is to successfully combat global warming, the Vatican’s Secretary of State warned Tuesday.\nIn his message on behalf of Pope Francis to participants in the U.N.’s COP24 climate meeting in Katowice, Poland, Cardinal Pietro Parolin said that information from the U.N.’s most recent climate change report is “even more worrying given that the current commitments made by States to mitigate and adapt to climate change are not sufficient to achieve the objectives set by the Paris Agreement.”\nWhile “it is still possible to limit global warming,” Parolin said, “to do so will require a clear, forward-looking and strong political will to promote as quickly as possible the process of transitioning to a model of development that is free from those technologies and behaviours that influence the over-production of greenhouse gas emissions.”\n“The question is therefore this: is there sufficient political will to implement the many solutions we have available to promote the aforementioned model of development?” the cardinal queried.\nThe Vatican has thrown its full moral weight behind the U.N. climate change program, urging all nations and peoples to adopt the measures of the Paris climate accord to curb CO2 emissions and phasing out the use of fossil fuels.\nOn the part of the Holy See, it is important that the U.N. Work Programme focus on “easing the impact of climate change through responsible mitigation and adaptation measures,” Parolin said Tuesday.\nThe cardinal also said that the Vatican believes that a number of points should be included in the core of the Paris Agreement Work Programme, including encouraging “developed countries to take the lead,” advancing “sustainable consumption and production patterns,” and providing “a follow-up and commitment review process in a transparent, efficient and dynamic manner.”\n“The scientific data at our disposal clearly show the urgent need for swift action,” Parolin stated.\n“The transition to a reduction of greenhouse gas emissions is a problem not only within the domain of technology, but also a question of consumption patterns, education, and lifestyles,” he said. “We are gradually becoming aware that climate change is an issue increasingly more moral than technical.”\nNon-state actors in the fight against climate change bring the “voice of the people” to the issue, he said, and show an important dynamic in finding innovative ways to “promote a sustainable production and consumption system, as well as in fostering a change in lifestyle.”\nThe cardinal also insisted that a “change of mentality is necessary, centred on core values capable of highlighting the ethical and human dimension of climate change.”\n“We know what we can do, and what we have to do becomes an ethical imperative,” Parolin said, in what could be interpreted as a call to the faithful to divest themselves of ownership of equity in the fossil fuel industry.\n“This obliges us to think seriously about the meaning of financial and economic investments, orienting them towards sectors that really affect the future of humanity, safeguarding the conditions of a worthy life on a ‘healthy’ planet,” he said.\n“COP-24 may be a turning point, if it can show that the collaborative and proactive spirit of Paris is still alive,” he said.\n“Attitudes such as indifference, resignation and denial, or the limited hope in some technological solution that may be only partial or even counterproductive, must not prevail.”\nFollow Thomas D. Williams on Twitter Follow @tdwilliamsrome"
          },
          "metadata": {}
        },
        {
          "output_type": "display_data",
          "data": {
            "text/plain": [
              "<IPython.core.display.Markdown object>"
            ],
            "text/markdown": "\n---\n"
          },
          "metadata": {}
        },
        {
          "output_type": "display_data",
          "data": {
            "text/plain": [
              "<IPython.core.display.Markdown object>"
            ],
            "text/markdown": "**Date Published:** 2018-12-13 11:32:20"
          },
          "metadata": {}
        },
        {
          "output_type": "display_data",
          "data": {
            "text/plain": [
              "<IPython.core.display.Markdown object>"
            ],
            "text/markdown": "**Outlet:** Breitbart"
          },
          "metadata": {}
        },
        {
          "output_type": "display_data",
          "data": {
            "text/plain": [
              "<IPython.core.display.Markdown object>"
            ],
            "text/markdown": "**Headline:** vatican calls for ‘urgent action’ to stop climate change"
          },
          "metadata": {}
        },
        {
          "output_type": "display_data",
          "data": {
            "text/plain": [
              "<IPython.core.display.Markdown object>"
            ],
            "text/markdown": "**Body:**\nThe Vatican delegation to the U.N. Climate summit in Katowice, Poland, has issued an “urgent call for ambition, action, and true solidarity” in battling climate change.\nAt a press conference on Wednesday, Monsignor Bruno-Marie Duffé, coordinator of the Holy See delegation, said that the climate crisis has economic, social, and financial aspects, while insisting on the call of Pope Francis to listen attentively to the cries of the earth, which is “groaning out in travail.”\nThe Vatican delegation has also urged nations to pay heed to climate scientists and particularly the latest IPCC report, which “shows clearly the devastating impact of climate change on communities around the world.”\nThe Vatican also held up the contributions of other participants in the meeting, notably Mercy Chirambo, representative of Caritas Malawi (CADECOM), and Joseph Sapati Moeono-Kolio, representative of the Pacific Climate Warriors.\n“The panelists strongly called for urgent action in solidarity with the most vulnerable,” the Vatican said in its communiqué.\nFor her part, Mercy Chirambo said that climate change has a specific impact on the life of women. “As it is clear, in our case, the impact on the life of human beings is not just physical but also emotional,” she said.\nJoseph Sapati Moeono-Kolio said that “the difference between 1.5 and 2 degrees is the difference between us leaving our islands forever and getting to stay,” and “we need to understand that people are right at the center of this issue.”\nThe Vatican Secretary of State, Cardinal Pietro Parolin, delivered a message to meeting participants on behalf of Pope Francis in which he denounced climate “denial” and urged positive action to curb global warming.\nThe cardinal said that information from the IPCC report is “even more worrying given that the current commitments made by States to mitigate and adapt to climate change are not sufficient to achieve the objectives set by the Paris Agreement.”\nWhile “it is still possible to limit global warming,” Parolin said, “to do so will require a clear, forward-looking and strong political will to promote as quickly as possible the process of transitioning to a model of development that is free from those technologies and behaviours that influence the over-production of greenhouse gas emissions.”\nAt the end of Wednesday’s press conference, Msgr. Duffé praised current action against climate change happening at the level of local communities.\n“It is really important to remember all the progress in our history which is not only at the level of political decision makers,” he said. “We need them, we need international authority, but we have to see and consider all commitments of all peoples, all communities.”\nFollow Thomas D. Williams on Twitter Follow @tdwilliamsrome"
          },
          "metadata": {}
        },
        {
          "output_type": "display_data",
          "data": {
            "text/plain": [
              "<IPython.core.display.Markdown object>"
            ],
            "text/markdown": "\n---\n"
          },
          "metadata": {}
        },
        {
          "output_type": "display_data",
          "data": {
            "text/plain": [
              "<IPython.core.display.Markdown object>"
            ],
            "text/markdown": "**Date Published:** 2019-01-02 20:56:45"
          },
          "metadata": {}
        },
        {
          "output_type": "display_data",
          "data": {
            "text/plain": [
              "<IPython.core.display.Markdown object>"
            ],
            "text/markdown": "**Outlet:** Breitbart"
          },
          "metadata": {}
        },
        {
          "output_type": "display_data",
          "data": {
            "text/plain": [
              "<IPython.core.display.Markdown object>"
            ],
            "text/markdown": "**Headline:** treat climate change as ‘devastating military attack’"
          },
          "metadata": {}
        },
        {
          "output_type": "display_data",
          "data": {
            "text/plain": [
              "<IPython.core.display.Markdown object>"
            ],
            "text/markdown": "**Body:**\nHumanity must declare war against climate change, Bernie Sanders said Tuesday, treating it like a military threat that demands full engagement.\n“We must look at climate change as if it were a devastating military attack against the United States and the entire planet. And we must respond accordingly,” Mr. Sanders said in a Tweet.\nWe must look at climate change as if it were a devastating military attack against the United States and the entire planet. And we must respond accordingly. — Bernie Sanders (@SenSanders) January 1, 2019\nA true believer in manmade climate change, Mr. Sander’s expressed his “delight” last July at the resignation of EPA director Scott Pruitt.\nWhat we have got to do now, Sanders said, “is to see if we can get a handful of Republican senators to understand that climate change is real, that environmental protection is enormously important for this country, and get them on board to demand that Trump appoint an EPA administrator who represents the American people and not just the fossil fuel industry.”\nSanders said that Pruitt’s replacement at the EPA, Andrew Wheeler, “should be vigorously opposed.”\n“Not every Republican agrees with Trump or Pruitt that climate change is a hoax,” he said. “There are many Republicans who understand that it is real, that it is an enormously serious issue.”\nNo stranger to hyperbole and grandiloquence, Sanders told Sarah Silverman last September that America “starves little children” and bombs “houses and buses of children.”\nMr. Sanders said in November that he is thinking of running for president again in 2020, saying he is “looking at it” and that will do so if he concludes he is the strongest candidate to defeat President Donald Trump.\n“I will make that decision at the appropriate time,” Sanders said.\n“We’ve got some great people out there who are thinking of running,” he said. “They are my friends. And I’ve got to make that decision that, based on my background, based on my past, based on my ideas that, in fact, I am the candidate that can defeat Trump.”\nMr. Sanders has embraced the title of “socialist,” putting himself to the left even of many democrats. On first winning election to the House of Representatives in 1990, he famously said, “I am a socialist and everyone knows that.”\nIn a 2016 interview, Sanders said he thinks that Pope Francis is a socialist who believes, like him, that wealth is not “an end in itself.”\n“To be a socialist,” said Sanders, “in the sense of what the Pope is talking about, what I’m talking about, is to say that we have got to do our best and live our lives in a way that alleviates human suffering, that does not accelerate the disparities of income and wealth.”\nFollow Thomas D. Williams on Twitter Follow @tdwilliamsrome"
          },
          "metadata": {}
        },
        {
          "output_type": "display_data",
          "data": {
            "text/plain": [
              "<IPython.core.display.Markdown object>"
            ],
            "text/markdown": "\n---\n"
          },
          "metadata": {}
        },
        {
          "output_type": "display_data",
          "data": {
            "text/plain": [
              "<IPython.core.display.Markdown object>"
            ],
            "text/markdown": "**Date Published:** 2019-03-25 15:08:05"
          },
          "metadata": {}
        },
        {
          "output_type": "display_data",
          "data": {
            "text/plain": [
              "<IPython.core.display.Markdown object>"
            ],
            "text/markdown": "**Outlet:** Breitbart"
          },
          "metadata": {}
        },
        {
          "output_type": "display_data",
          "data": {
            "text/plain": [
              "<IPython.core.display.Markdown object>"
            ],
            "text/markdown": "**Headline:** water shortage a consequence of ‘climate change’"
          },
          "metadata": {}
        },
        {
          "output_type": "display_data",
          "data": {
            "text/plain": [
              "<IPython.core.display.Markdown object>"
            ],
            "text/markdown": "**Body:**\nPope Francis tied a lack of water in different parts of the world to global warming Sunday, calling it one of the “inevitable consequences of climate change.”\nIn his message for World Water Day 2019, the pope called for education of future generations in a greater respect for the environment and a greater awareness of the suffering caused by climate change.\nThis educational challenge will produce “generations that value and love the resources that our mother the Earth gives us,” he said.\nThe pontiff also decried the spread of droughts and waterless areas and urged the international community to come to the assistance of those impacted by the phenomenon.\n“It may be seen in our days how the aridity of the planet is extending to new regions, and more and more are suffering as a result of the lack of water sources suitable for consumption,” Francis lamented, while calling for “an end to this injustice” and reiterating his conviction that access to clean water is “a fundamental human right.”\nThe disadvantaged of the earth “challenge us to find a remedy for the lack of water in their countries,” he said, “they also challenge us, from their poverty and limits, to accord the just value to this good, essential for the development of all peoples.”\nThis is not the first time that the pope has weighed in on water conservation. It has been, in fact, a recurring theme since the beginning of his pontificate in 2013 and he is the only pope in history to write an encyclical letter on the environment.\nTwo years ago, Francis addressed the international summit “Water and Climate: Meeting of the Great Rivers of the World,” sponsored by the United Nations Economic Commission for Europe (UNECE) in which he expressed his concern for water conservation around the world, as well as his fervent desire that “the threat posed by climate change to our brothers and sisters in the most vulnerable countries will find prompt and effective responses.”\nLast fall, the pontiff called the lack of safe drinking water in the world an “immense shame,” adding that better access to drinking water must be provided to people around the globe.\nPeople dying from the lack of clean water “is an immense shame for humanity in the 21st century,” he said, yet “unfortunately, in many of the countries where the population does not have regular access to drinking water, there is no shortage of arms and ammunition, which continues to worsen the situation.”\nThe pope’s frequent comments on the topic of water have even led to criticism from with his own Jesuit order, with warnings that he risks making the Church sound like just one more social justice NGO with no unique message for humanity.\nIn a powerful essay last October, Jesuit Father James V. Schall suggested that Pope Francis has invested much time and effort into political and secular topics such as climate change and immigration while seemingly downplaying key issues of Catholic moral teaching.\nFather Schall, a prominent intellectual who taught political science at Georgetown University for many years, took issue specifically with the pope’s Letter on the World’s Day of Prayer for Creation, which focused on access “to clean water,” a topic that would seem to fall outside the specific mission of the Catholic Church.\n“Christ walked on water, turned water into wine, helped a woman at a well draw it up, and was baptized with it in the Jordan,” Schall noted. “He never designed a dam to provide water for Nazareth or Jerusalem. He evidently assumed that men could eventually figure this task out without the need of revelation.”\n“A pope can mention the problem of water availability or other such issues, but his is not the task to provide technical solutions even if he had a doctorate in water engineering,” he added.\nMore importantly, many people of good “will wonder why, if the pope can talk of clean water, he cannot talk about his own record or what he holds on issues that certainly do fall within his competency. These latter issues are what perplex people,” he said.\n“Pope Bergoglio himself seems willing to talk about almost every subject but his own beliefs and record,” he said.\nFollow Thomas D. Williams on Twitter Follow @tdwilliamsrome"
          },
          "metadata": {}
        },
        {
          "output_type": "display_data",
          "data": {
            "text/plain": [
              "<IPython.core.display.Markdown object>"
            ],
            "text/markdown": "\n---\n"
          },
          "metadata": {}
        }
      ]
    },
    {
      "cell_type": "markdown",
      "source": [
        "---"
      ],
      "metadata": {
        "id": "zNf_VKHyM_YO"
      }
    },
    {
      "cell_type": "markdown",
      "source": [
        "Left"
      ],
      "metadata": {
        "id": "JLNgVPVRNA1e"
      }
    },
    {
      "cell_type": "code",
      "source": [
        "df_TrainingLeft = pd.read_csv(\"left_leaning_articles.csv\")"
      ],
      "metadata": {
        "id": "gzIRTFrHM-4O"
      },
      "execution_count": null,
      "outputs": []
    },
    {
      "cell_type": "code",
      "source": [
        "df_ResultsLeft = pd.read_csv(\"datagptLeft.csv\")"
      ],
      "metadata": {
        "id": "WtvAhOk2NGWn"
      },
      "execution_count": null,
      "outputs": []
    },
    {
      "cell_type": "code",
      "source": [
        "df_ResultsLeft"
      ],
      "metadata": {
        "colab": {
          "base_uri": "https://localhost:8080/",
          "height": 423
        },
        "id": "S6l0jesYNZKe",
        "outputId": "9283c955-dc92-49a5-9161-ae305dc901d6"
      },
      "execution_count": null,
      "outputs": [
        {
          "output_type": "execute_result",
          "data": {
            "text/plain": [
              "                                                Prompt  \\\n",
              "0      Write a news article to discuss climate change.   \n",
              "1       Write a news article to debate climate change.   \n",
              "2    Write a news article to highlight climate change.   \n",
              "3      Write a news article to explain climate change.   \n",
              "4     Write a news article to describe climate change.   \n",
              "..                                                 ...   \n",
              "107  Write a news article to highlight urban sustai...   \n",
              "108  Write a news article to explain urban sustaina...   \n",
              "109  Write a news article to describe urban sustain...   \n",
              "110  Write a news article to share a fact about urb...   \n",
              "111  Write a news article to pose a question regard...   \n",
              "\n",
              "                                     Generated Content  BERT Score  \\\n",
              "0    hurricanes jose and maria add to climate chang...    0.502092   \n",
              "1    debate over air conditioning, climate change, ...    0.497837   \n",
              "2    the climate fight goes bipartisan..\\nTo the ed...    0.180586   \n",
              "3    you're a climate hero whether you like it or n...    0.176200   \n",
              "4    what is the blue wave worth if climate change ...    0.376483   \n",
              "..                                                 ...         ...   \n",
              "107  how bismarck’s urban sustainability practices ...    0.501029   \n",
              "108  this neighborhood could either get greener — o...    0.509715   \n",
              "109  after trump abandons climate accord, mayors vo...    0.531802   \n",
              "110  could biodiversity offset climate change impac...    0.496842   \n",
              "111  will hurricane damage force miami to change it...    0.477503   \n",
              "\n",
              "    Predicted Stance  \n",
              "0             center  \n",
              "1             center  \n",
              "2               left  \n",
              "3               left  \n",
              "4               left  \n",
              "..               ...  \n",
              "107           center  \n",
              "108            right  \n",
              "109            right  \n",
              "110           center  \n",
              "111           center  \n",
              "\n",
              "[112 rows x 4 columns]"
            ],
            "text/html": [
              "\n",
              "  <div id=\"df-65dbed72-4ad7-4f41-847e-97c955654bbf\" class=\"colab-df-container\">\n",
              "    <div>\n",
              "<style scoped>\n",
              "    .dataframe tbody tr th:only-of-type {\n",
              "        vertical-align: middle;\n",
              "    }\n",
              "\n",
              "    .dataframe tbody tr th {\n",
              "        vertical-align: top;\n",
              "    }\n",
              "\n",
              "    .dataframe thead th {\n",
              "        text-align: right;\n",
              "    }\n",
              "</style>\n",
              "<table border=\"1\" class=\"dataframe\">\n",
              "  <thead>\n",
              "    <tr style=\"text-align: right;\">\n",
              "      <th></th>\n",
              "      <th>Prompt</th>\n",
              "      <th>Generated Content</th>\n",
              "      <th>BERT Score</th>\n",
              "      <th>Predicted Stance</th>\n",
              "    </tr>\n",
              "  </thead>\n",
              "  <tbody>\n",
              "    <tr>\n",
              "      <th>0</th>\n",
              "      <td>Write a news article to discuss climate change.</td>\n",
              "      <td>hurricanes jose and maria add to climate chang...</td>\n",
              "      <td>0.502092</td>\n",
              "      <td>center</td>\n",
              "    </tr>\n",
              "    <tr>\n",
              "      <th>1</th>\n",
              "      <td>Write a news article to debate climate change.</td>\n",
              "      <td>debate over air conditioning, climate change, ...</td>\n",
              "      <td>0.497837</td>\n",
              "      <td>center</td>\n",
              "    </tr>\n",
              "    <tr>\n",
              "      <th>2</th>\n",
              "      <td>Write a news article to highlight climate change.</td>\n",
              "      <td>the climate fight goes bipartisan..\\nTo the ed...</td>\n",
              "      <td>0.180586</td>\n",
              "      <td>left</td>\n",
              "    </tr>\n",
              "    <tr>\n",
              "      <th>3</th>\n",
              "      <td>Write a news article to explain climate change.</td>\n",
              "      <td>you're a climate hero whether you like it or n...</td>\n",
              "      <td>0.176200</td>\n",
              "      <td>left</td>\n",
              "    </tr>\n",
              "    <tr>\n",
              "      <th>4</th>\n",
              "      <td>Write a news article to describe climate change.</td>\n",
              "      <td>what is the blue wave worth if climate change ...</td>\n",
              "      <td>0.376483</td>\n",
              "      <td>left</td>\n",
              "    </tr>\n",
              "    <tr>\n",
              "      <th>...</th>\n",
              "      <td>...</td>\n",
              "      <td>...</td>\n",
              "      <td>...</td>\n",
              "      <td>...</td>\n",
              "    </tr>\n",
              "    <tr>\n",
              "      <th>107</th>\n",
              "      <td>Write a news article to highlight urban sustai...</td>\n",
              "      <td>how bismarck’s urban sustainability practices ...</td>\n",
              "      <td>0.501029</td>\n",
              "      <td>center</td>\n",
              "    </tr>\n",
              "    <tr>\n",
              "      <th>108</th>\n",
              "      <td>Write a news article to explain urban sustaina...</td>\n",
              "      <td>this neighborhood could either get greener — o...</td>\n",
              "      <td>0.509715</td>\n",
              "      <td>right</td>\n",
              "    </tr>\n",
              "    <tr>\n",
              "      <th>109</th>\n",
              "      <td>Write a news article to describe urban sustain...</td>\n",
              "      <td>after trump abandons climate accord, mayors vo...</td>\n",
              "      <td>0.531802</td>\n",
              "      <td>right</td>\n",
              "    </tr>\n",
              "    <tr>\n",
              "      <th>110</th>\n",
              "      <td>Write a news article to share a fact about urb...</td>\n",
              "      <td>could biodiversity offset climate change impac...</td>\n",
              "      <td>0.496842</td>\n",
              "      <td>center</td>\n",
              "    </tr>\n",
              "    <tr>\n",
              "      <th>111</th>\n",
              "      <td>Write a news article to pose a question regard...</td>\n",
              "      <td>will hurricane damage force miami to change it...</td>\n",
              "      <td>0.477503</td>\n",
              "      <td>center</td>\n",
              "    </tr>\n",
              "  </tbody>\n",
              "</table>\n",
              "<p>112 rows × 4 columns</p>\n",
              "</div>\n",
              "    <div class=\"colab-df-buttons\">\n",
              "\n",
              "  <div class=\"colab-df-container\">\n",
              "    <button class=\"colab-df-convert\" onclick=\"convertToInteractive('df-65dbed72-4ad7-4f41-847e-97c955654bbf')\"\n",
              "            title=\"Convert this dataframe to an interactive table.\"\n",
              "            style=\"display:none;\">\n",
              "\n",
              "  <svg xmlns=\"http://www.w3.org/2000/svg\" height=\"24px\" viewBox=\"0 -960 960 960\">\n",
              "    <path d=\"M120-120v-720h720v720H120Zm60-500h600v-160H180v160Zm220 220h160v-160H400v160Zm0 220h160v-160H400v160ZM180-400h160v-160H180v160Zm440 0h160v-160H620v160ZM180-180h160v-160H180v160Zm440 0h160v-160H620v160Z\"/>\n",
              "  </svg>\n",
              "    </button>\n",
              "\n",
              "  <style>\n",
              "    .colab-df-container {\n",
              "      display:flex;\n",
              "      gap: 12px;\n",
              "    }\n",
              "\n",
              "    .colab-df-convert {\n",
              "      background-color: #E8F0FE;\n",
              "      border: none;\n",
              "      border-radius: 50%;\n",
              "      cursor: pointer;\n",
              "      display: none;\n",
              "      fill: #1967D2;\n",
              "      height: 32px;\n",
              "      padding: 0 0 0 0;\n",
              "      width: 32px;\n",
              "    }\n",
              "\n",
              "    .colab-df-convert:hover {\n",
              "      background-color: #E2EBFA;\n",
              "      box-shadow: 0px 1px 2px rgba(60, 64, 67, 0.3), 0px 1px 3px 1px rgba(60, 64, 67, 0.15);\n",
              "      fill: #174EA6;\n",
              "    }\n",
              "\n",
              "    .colab-df-buttons div {\n",
              "      margin-bottom: 4px;\n",
              "    }\n",
              "\n",
              "    [theme=dark] .colab-df-convert {\n",
              "      background-color: #3B4455;\n",
              "      fill: #D2E3FC;\n",
              "    }\n",
              "\n",
              "    [theme=dark] .colab-df-convert:hover {\n",
              "      background-color: #434B5C;\n",
              "      box-shadow: 0px 1px 3px 1px rgba(0, 0, 0, 0.15);\n",
              "      filter: drop-shadow(0px 1px 2px rgba(0, 0, 0, 0.3));\n",
              "      fill: #FFFFFF;\n",
              "    }\n",
              "  </style>\n",
              "\n",
              "    <script>\n",
              "      const buttonEl =\n",
              "        document.querySelector('#df-65dbed72-4ad7-4f41-847e-97c955654bbf button.colab-df-convert');\n",
              "      buttonEl.style.display =\n",
              "        google.colab.kernel.accessAllowed ? 'block' : 'none';\n",
              "\n",
              "      async function convertToInteractive(key) {\n",
              "        const element = document.querySelector('#df-65dbed72-4ad7-4f41-847e-97c955654bbf');\n",
              "        const dataTable =\n",
              "          await google.colab.kernel.invokeFunction('convertToInteractive',\n",
              "                                                    [key], {});\n",
              "        if (!dataTable) return;\n",
              "\n",
              "        const docLinkHtml = 'Like what you see? Visit the ' +\n",
              "          '<a target=\"_blank\" href=https://colab.research.google.com/notebooks/data_table.ipynb>data table notebook</a>'\n",
              "          + ' to learn more about interactive tables.';\n",
              "        element.innerHTML = '';\n",
              "        dataTable['output_type'] = 'display_data';\n",
              "        await google.colab.output.renderOutput(dataTable, element);\n",
              "        const docLink = document.createElement('div');\n",
              "        docLink.innerHTML = docLinkHtml;\n",
              "        element.appendChild(docLink);\n",
              "      }\n",
              "    </script>\n",
              "  </div>\n",
              "\n",
              "\n",
              "<div id=\"df-c0b07c30-3e4c-40f9-8ed1-77a3c6eb856f\">\n",
              "  <button class=\"colab-df-quickchart\" onclick=\"quickchart('df-c0b07c30-3e4c-40f9-8ed1-77a3c6eb856f')\"\n",
              "            title=\"Suggest charts\"\n",
              "            style=\"display:none;\">\n",
              "\n",
              "<svg xmlns=\"http://www.w3.org/2000/svg\" height=\"24px\"viewBox=\"0 0 24 24\"\n",
              "     width=\"24px\">\n",
              "    <g>\n",
              "        <path d=\"M19 3H5c-1.1 0-2 .9-2 2v14c0 1.1.9 2 2 2h14c1.1 0 2-.9 2-2V5c0-1.1-.9-2-2-2zM9 17H7v-7h2v7zm4 0h-2V7h2v10zm4 0h-2v-4h2v4z\"/>\n",
              "    </g>\n",
              "</svg>\n",
              "  </button>\n",
              "\n",
              "<style>\n",
              "  .colab-df-quickchart {\n",
              "      --bg-color: #E8F0FE;\n",
              "      --fill-color: #1967D2;\n",
              "      --hover-bg-color: #E2EBFA;\n",
              "      --hover-fill-color: #174EA6;\n",
              "      --disabled-fill-color: #AAA;\n",
              "      --disabled-bg-color: #DDD;\n",
              "  }\n",
              "\n",
              "  [theme=dark] .colab-df-quickchart {\n",
              "      --bg-color: #3B4455;\n",
              "      --fill-color: #D2E3FC;\n",
              "      --hover-bg-color: #434B5C;\n",
              "      --hover-fill-color: #FFFFFF;\n",
              "      --disabled-bg-color: #3B4455;\n",
              "      --disabled-fill-color: #666;\n",
              "  }\n",
              "\n",
              "  .colab-df-quickchart {\n",
              "    background-color: var(--bg-color);\n",
              "    border: none;\n",
              "    border-radius: 50%;\n",
              "    cursor: pointer;\n",
              "    display: none;\n",
              "    fill: var(--fill-color);\n",
              "    height: 32px;\n",
              "    padding: 0;\n",
              "    width: 32px;\n",
              "  }\n",
              "\n",
              "  .colab-df-quickchart:hover {\n",
              "    background-color: var(--hover-bg-color);\n",
              "    box-shadow: 0 1px 2px rgba(60, 64, 67, 0.3), 0 1px 3px 1px rgba(60, 64, 67, 0.15);\n",
              "    fill: var(--button-hover-fill-color);\n",
              "  }\n",
              "\n",
              "  .colab-df-quickchart-complete:disabled,\n",
              "  .colab-df-quickchart-complete:disabled:hover {\n",
              "    background-color: var(--disabled-bg-color);\n",
              "    fill: var(--disabled-fill-color);\n",
              "    box-shadow: none;\n",
              "  }\n",
              "\n",
              "  .colab-df-spinner {\n",
              "    border: 2px solid var(--fill-color);\n",
              "    border-color: transparent;\n",
              "    border-bottom-color: var(--fill-color);\n",
              "    animation:\n",
              "      spin 1s steps(1) infinite;\n",
              "  }\n",
              "\n",
              "  @keyframes spin {\n",
              "    0% {\n",
              "      border-color: transparent;\n",
              "      border-bottom-color: var(--fill-color);\n",
              "      border-left-color: var(--fill-color);\n",
              "    }\n",
              "    20% {\n",
              "      border-color: transparent;\n",
              "      border-left-color: var(--fill-color);\n",
              "      border-top-color: var(--fill-color);\n",
              "    }\n",
              "    30% {\n",
              "      border-color: transparent;\n",
              "      border-left-color: var(--fill-color);\n",
              "      border-top-color: var(--fill-color);\n",
              "      border-right-color: var(--fill-color);\n",
              "    }\n",
              "    40% {\n",
              "      border-color: transparent;\n",
              "      border-right-color: var(--fill-color);\n",
              "      border-top-color: var(--fill-color);\n",
              "    }\n",
              "    60% {\n",
              "      border-color: transparent;\n",
              "      border-right-color: var(--fill-color);\n",
              "    }\n",
              "    80% {\n",
              "      border-color: transparent;\n",
              "      border-right-color: var(--fill-color);\n",
              "      border-bottom-color: var(--fill-color);\n",
              "    }\n",
              "    90% {\n",
              "      border-color: transparent;\n",
              "      border-bottom-color: var(--fill-color);\n",
              "    }\n",
              "  }\n",
              "</style>\n",
              "\n",
              "  <script>\n",
              "    async function quickchart(key) {\n",
              "      const quickchartButtonEl =\n",
              "        document.querySelector('#' + key + ' button');\n",
              "      quickchartButtonEl.disabled = true;  // To prevent multiple clicks.\n",
              "      quickchartButtonEl.classList.add('colab-df-spinner');\n",
              "      try {\n",
              "        const charts = await google.colab.kernel.invokeFunction(\n",
              "            'suggestCharts', [key], {});\n",
              "      } catch (error) {\n",
              "        console.error('Error during call to suggestCharts:', error);\n",
              "      }\n",
              "      quickchartButtonEl.classList.remove('colab-df-spinner');\n",
              "      quickchartButtonEl.classList.add('colab-df-quickchart-complete');\n",
              "    }\n",
              "    (() => {\n",
              "      let quickchartButtonEl =\n",
              "        document.querySelector('#df-c0b07c30-3e4c-40f9-8ed1-77a3c6eb856f button');\n",
              "      quickchartButtonEl.style.display =\n",
              "        google.colab.kernel.accessAllowed ? 'block' : 'none';\n",
              "    })();\n",
              "  </script>\n",
              "</div>\n",
              "    </div>\n",
              "  </div>\n"
            ]
          },
          "metadata": {},
          "execution_count": 12
        }
      ]
    },
    {
      "cell_type": "code",
      "source": [
        "df_TrainingLeft"
      ],
      "metadata": {
        "colab": {
          "base_uri": "https://localhost:8080/",
          "height": 423
        },
        "id": "qaauQW8qNXyt",
        "outputId": "f2d5f64c-323d-46c6-e730-e8c601d6f434"
      },
      "execution_count": null,
      "outputs": [
        {
          "output_type": "execute_result",
          "data": {
            "text/plain": [
              "             date_publish              outlet  \\\n",
              "0     2017-01-01 23:05:38            HuffPost   \n",
              "1     2017-01-02 11:00:23        The Guardian   \n",
              "2     2017-01-02 14:18:59            HuffPost   \n",
              "3     2017-01-04 19:05:59            HuffPost   \n",
              "4     2017-01-05 23:57:30            HuffPost   \n",
              "...                   ...                 ...   \n",
              "1585  2019-08-27 00:00:00  The New York Times   \n",
              "1586  2019-08-27 18:00:19        The Guardian   \n",
              "1587  2019-08-29 00:00:00  The New York Times   \n",
              "1588  2019-08-30 00:00:00                 NPR   \n",
              "1589  2019-08-31 20:28:42               Slate   \n",
              "\n",
              "                                               headline  \\\n",
              "0     climate change this week: vanishing life, sola...   \n",
              "1     climate change in 2016: the good, the bad, and...   \n",
              "2     pacific countries advance regional policy towa...   \n",
              "3     noaa scientists didn't cook the books on clima...   \n",
              "4     climate change this week: nuclear climate chan...   \n",
              "...                                                 ...   \n",
              "1585  gentrification might kill new orleans before c...   \n",
              "1586  wayne swan warns climate change will reshape p...   \n",
              "1587  6 major climate change rules the trump adminis...   \n",
              "1588  australia says great barrier reef has 'very po...   \n",
              "1589  north carolina’s climate change blind spots ma...   \n",
              "\n",
              "                                                   body  \n",
              "0     Today, the Earth got a little hotter, and a li...  \n",
              "1     This past year had so many stories involving h...  \n",
              "2     Villagers watch the sunset over a small lagoon...  \n",
              "3     Olaf Kruger/Getty Images Polar bears on an ice...  \n",
              "4     Today, the Earth got a little hotter, and a li...  \n",
              "...                                                 ...  \n",
              "1585  New Orleans in 2019 is actually feeling much a...  \n",
              "1586  Exclusive: Labor president says although May e...  \n",
              "1587  The move to rescind environmental rules govern...  \n",
              "1588  Australia Says Great Barrier Reef Has 'Very Po...  \n",
              "1589  A truck drives through deep flood water in Rhe...  \n",
              "\n",
              "[1590 rows x 4 columns]"
            ],
            "text/html": [
              "\n",
              "  <div id=\"df-2a754138-02a5-4328-b6e4-f1e150af62d2\" class=\"colab-df-container\">\n",
              "    <div>\n",
              "<style scoped>\n",
              "    .dataframe tbody tr th:only-of-type {\n",
              "        vertical-align: middle;\n",
              "    }\n",
              "\n",
              "    .dataframe tbody tr th {\n",
              "        vertical-align: top;\n",
              "    }\n",
              "\n",
              "    .dataframe thead th {\n",
              "        text-align: right;\n",
              "    }\n",
              "</style>\n",
              "<table border=\"1\" class=\"dataframe\">\n",
              "  <thead>\n",
              "    <tr style=\"text-align: right;\">\n",
              "      <th></th>\n",
              "      <th>date_publish</th>\n",
              "      <th>outlet</th>\n",
              "      <th>headline</th>\n",
              "      <th>body</th>\n",
              "    </tr>\n",
              "  </thead>\n",
              "  <tbody>\n",
              "    <tr>\n",
              "      <th>0</th>\n",
              "      <td>2017-01-01 23:05:38</td>\n",
              "      <td>HuffPost</td>\n",
              "      <td>climate change this week: vanishing life, sola...</td>\n",
              "      <td>Today, the Earth got a little hotter, and a li...</td>\n",
              "    </tr>\n",
              "    <tr>\n",
              "      <th>1</th>\n",
              "      <td>2017-01-02 11:00:23</td>\n",
              "      <td>The Guardian</td>\n",
              "      <td>climate change in 2016: the good, the bad, and...</td>\n",
              "      <td>This past year had so many stories involving h...</td>\n",
              "    </tr>\n",
              "    <tr>\n",
              "      <th>2</th>\n",
              "      <td>2017-01-02 14:18:59</td>\n",
              "      <td>HuffPost</td>\n",
              "      <td>pacific countries advance regional policy towa...</td>\n",
              "      <td>Villagers watch the sunset over a small lagoon...</td>\n",
              "    </tr>\n",
              "    <tr>\n",
              "      <th>3</th>\n",
              "      <td>2017-01-04 19:05:59</td>\n",
              "      <td>HuffPost</td>\n",
              "      <td>noaa scientists didn't cook the books on clima...</td>\n",
              "      <td>Olaf Kruger/Getty Images Polar bears on an ice...</td>\n",
              "    </tr>\n",
              "    <tr>\n",
              "      <th>4</th>\n",
              "      <td>2017-01-05 23:57:30</td>\n",
              "      <td>HuffPost</td>\n",
              "      <td>climate change this week: nuclear climate chan...</td>\n",
              "      <td>Today, the Earth got a little hotter, and a li...</td>\n",
              "    </tr>\n",
              "    <tr>\n",
              "      <th>...</th>\n",
              "      <td>...</td>\n",
              "      <td>...</td>\n",
              "      <td>...</td>\n",
              "      <td>...</td>\n",
              "    </tr>\n",
              "    <tr>\n",
              "      <th>1585</th>\n",
              "      <td>2019-08-27 00:00:00</td>\n",
              "      <td>The New York Times</td>\n",
              "      <td>gentrification might kill new orleans before c...</td>\n",
              "      <td>New Orleans in 2019 is actually feeling much a...</td>\n",
              "    </tr>\n",
              "    <tr>\n",
              "      <th>1586</th>\n",
              "      <td>2019-08-27 18:00:19</td>\n",
              "      <td>The Guardian</td>\n",
              "      <td>wayne swan warns climate change will reshape p...</td>\n",
              "      <td>Exclusive: Labor president says although May e...</td>\n",
              "    </tr>\n",
              "    <tr>\n",
              "      <th>1587</th>\n",
              "      <td>2019-08-29 00:00:00</td>\n",
              "      <td>The New York Times</td>\n",
              "      <td>6 major climate change rules the trump adminis...</td>\n",
              "      <td>The move to rescind environmental rules govern...</td>\n",
              "    </tr>\n",
              "    <tr>\n",
              "      <th>1588</th>\n",
              "      <td>2019-08-30 00:00:00</td>\n",
              "      <td>NPR</td>\n",
              "      <td>australia says great barrier reef has 'very po...</td>\n",
              "      <td>Australia Says Great Barrier Reef Has 'Very Po...</td>\n",
              "    </tr>\n",
              "    <tr>\n",
              "      <th>1589</th>\n",
              "      <td>2019-08-31 20:28:42</td>\n",
              "      <td>Slate</td>\n",
              "      <td>north carolina’s climate change blind spots ma...</td>\n",
              "      <td>A truck drives through deep flood water in Rhe...</td>\n",
              "    </tr>\n",
              "  </tbody>\n",
              "</table>\n",
              "<p>1590 rows × 4 columns</p>\n",
              "</div>\n",
              "    <div class=\"colab-df-buttons\">\n",
              "\n",
              "  <div class=\"colab-df-container\">\n",
              "    <button class=\"colab-df-convert\" onclick=\"convertToInteractive('df-2a754138-02a5-4328-b6e4-f1e150af62d2')\"\n",
              "            title=\"Convert this dataframe to an interactive table.\"\n",
              "            style=\"display:none;\">\n",
              "\n",
              "  <svg xmlns=\"http://www.w3.org/2000/svg\" height=\"24px\" viewBox=\"0 -960 960 960\">\n",
              "    <path d=\"M120-120v-720h720v720H120Zm60-500h600v-160H180v160Zm220 220h160v-160H400v160Zm0 220h160v-160H400v160ZM180-400h160v-160H180v160Zm440 0h160v-160H620v160ZM180-180h160v-160H180v160Zm440 0h160v-160H620v160Z\"/>\n",
              "  </svg>\n",
              "    </button>\n",
              "\n",
              "  <style>\n",
              "    .colab-df-container {\n",
              "      display:flex;\n",
              "      gap: 12px;\n",
              "    }\n",
              "\n",
              "    .colab-df-convert {\n",
              "      background-color: #E8F0FE;\n",
              "      border: none;\n",
              "      border-radius: 50%;\n",
              "      cursor: pointer;\n",
              "      display: none;\n",
              "      fill: #1967D2;\n",
              "      height: 32px;\n",
              "      padding: 0 0 0 0;\n",
              "      width: 32px;\n",
              "    }\n",
              "\n",
              "    .colab-df-convert:hover {\n",
              "      background-color: #E2EBFA;\n",
              "      box-shadow: 0px 1px 2px rgba(60, 64, 67, 0.3), 0px 1px 3px 1px rgba(60, 64, 67, 0.15);\n",
              "      fill: #174EA6;\n",
              "    }\n",
              "\n",
              "    .colab-df-buttons div {\n",
              "      margin-bottom: 4px;\n",
              "    }\n",
              "\n",
              "    [theme=dark] .colab-df-convert {\n",
              "      background-color: #3B4455;\n",
              "      fill: #D2E3FC;\n",
              "    }\n",
              "\n",
              "    [theme=dark] .colab-df-convert:hover {\n",
              "      background-color: #434B5C;\n",
              "      box-shadow: 0px 1px 3px 1px rgba(0, 0, 0, 0.15);\n",
              "      filter: drop-shadow(0px 1px 2px rgba(0, 0, 0, 0.3));\n",
              "      fill: #FFFFFF;\n",
              "    }\n",
              "  </style>\n",
              "\n",
              "    <script>\n",
              "      const buttonEl =\n",
              "        document.querySelector('#df-2a754138-02a5-4328-b6e4-f1e150af62d2 button.colab-df-convert');\n",
              "      buttonEl.style.display =\n",
              "        google.colab.kernel.accessAllowed ? 'block' : 'none';\n",
              "\n",
              "      async function convertToInteractive(key) {\n",
              "        const element = document.querySelector('#df-2a754138-02a5-4328-b6e4-f1e150af62d2');\n",
              "        const dataTable =\n",
              "          await google.colab.kernel.invokeFunction('convertToInteractive',\n",
              "                                                    [key], {});\n",
              "        if (!dataTable) return;\n",
              "\n",
              "        const docLinkHtml = 'Like what you see? Visit the ' +\n",
              "          '<a target=\"_blank\" href=https://colab.research.google.com/notebooks/data_table.ipynb>data table notebook</a>'\n",
              "          + ' to learn more about interactive tables.';\n",
              "        element.innerHTML = '';\n",
              "        dataTable['output_type'] = 'display_data';\n",
              "        await google.colab.output.renderOutput(dataTable, element);\n",
              "        const docLink = document.createElement('div');\n",
              "        docLink.innerHTML = docLinkHtml;\n",
              "        element.appendChild(docLink);\n",
              "      }\n",
              "    </script>\n",
              "  </div>\n",
              "\n",
              "\n",
              "<div id=\"df-0551797b-4e5d-45fa-b535-af3ecb6a72b4\">\n",
              "  <button class=\"colab-df-quickchart\" onclick=\"quickchart('df-0551797b-4e5d-45fa-b535-af3ecb6a72b4')\"\n",
              "            title=\"Suggest charts\"\n",
              "            style=\"display:none;\">\n",
              "\n",
              "<svg xmlns=\"http://www.w3.org/2000/svg\" height=\"24px\"viewBox=\"0 0 24 24\"\n",
              "     width=\"24px\">\n",
              "    <g>\n",
              "        <path d=\"M19 3H5c-1.1 0-2 .9-2 2v14c0 1.1.9 2 2 2h14c1.1 0 2-.9 2-2V5c0-1.1-.9-2-2-2zM9 17H7v-7h2v7zm4 0h-2V7h2v10zm4 0h-2v-4h2v4z\"/>\n",
              "    </g>\n",
              "</svg>\n",
              "  </button>\n",
              "\n",
              "<style>\n",
              "  .colab-df-quickchart {\n",
              "      --bg-color: #E8F0FE;\n",
              "      --fill-color: #1967D2;\n",
              "      --hover-bg-color: #E2EBFA;\n",
              "      --hover-fill-color: #174EA6;\n",
              "      --disabled-fill-color: #AAA;\n",
              "      --disabled-bg-color: #DDD;\n",
              "  }\n",
              "\n",
              "  [theme=dark] .colab-df-quickchart {\n",
              "      --bg-color: #3B4455;\n",
              "      --fill-color: #D2E3FC;\n",
              "      --hover-bg-color: #434B5C;\n",
              "      --hover-fill-color: #FFFFFF;\n",
              "      --disabled-bg-color: #3B4455;\n",
              "      --disabled-fill-color: #666;\n",
              "  }\n",
              "\n",
              "  .colab-df-quickchart {\n",
              "    background-color: var(--bg-color);\n",
              "    border: none;\n",
              "    border-radius: 50%;\n",
              "    cursor: pointer;\n",
              "    display: none;\n",
              "    fill: var(--fill-color);\n",
              "    height: 32px;\n",
              "    padding: 0;\n",
              "    width: 32px;\n",
              "  }\n",
              "\n",
              "  .colab-df-quickchart:hover {\n",
              "    background-color: var(--hover-bg-color);\n",
              "    box-shadow: 0 1px 2px rgba(60, 64, 67, 0.3), 0 1px 3px 1px rgba(60, 64, 67, 0.15);\n",
              "    fill: var(--button-hover-fill-color);\n",
              "  }\n",
              "\n",
              "  .colab-df-quickchart-complete:disabled,\n",
              "  .colab-df-quickchart-complete:disabled:hover {\n",
              "    background-color: var(--disabled-bg-color);\n",
              "    fill: var(--disabled-fill-color);\n",
              "    box-shadow: none;\n",
              "  }\n",
              "\n",
              "  .colab-df-spinner {\n",
              "    border: 2px solid var(--fill-color);\n",
              "    border-color: transparent;\n",
              "    border-bottom-color: var(--fill-color);\n",
              "    animation:\n",
              "      spin 1s steps(1) infinite;\n",
              "  }\n",
              "\n",
              "  @keyframes spin {\n",
              "    0% {\n",
              "      border-color: transparent;\n",
              "      border-bottom-color: var(--fill-color);\n",
              "      border-left-color: var(--fill-color);\n",
              "    }\n",
              "    20% {\n",
              "      border-color: transparent;\n",
              "      border-left-color: var(--fill-color);\n",
              "      border-top-color: var(--fill-color);\n",
              "    }\n",
              "    30% {\n",
              "      border-color: transparent;\n",
              "      border-left-color: var(--fill-color);\n",
              "      border-top-color: var(--fill-color);\n",
              "      border-right-color: var(--fill-color);\n",
              "    }\n",
              "    40% {\n",
              "      border-color: transparent;\n",
              "      border-right-color: var(--fill-color);\n",
              "      border-top-color: var(--fill-color);\n",
              "    }\n",
              "    60% {\n",
              "      border-color: transparent;\n",
              "      border-right-color: var(--fill-color);\n",
              "    }\n",
              "    80% {\n",
              "      border-color: transparent;\n",
              "      border-right-color: var(--fill-color);\n",
              "      border-bottom-color: var(--fill-color);\n",
              "    }\n",
              "    90% {\n",
              "      border-color: transparent;\n",
              "      border-bottom-color: var(--fill-color);\n",
              "    }\n",
              "  }\n",
              "</style>\n",
              "\n",
              "  <script>\n",
              "    async function quickchart(key) {\n",
              "      const quickchartButtonEl =\n",
              "        document.querySelector('#' + key + ' button');\n",
              "      quickchartButtonEl.disabled = true;  // To prevent multiple clicks.\n",
              "      quickchartButtonEl.classList.add('colab-df-spinner');\n",
              "      try {\n",
              "        const charts = await google.colab.kernel.invokeFunction(\n",
              "            'suggestCharts', [key], {});\n",
              "      } catch (error) {\n",
              "        console.error('Error during call to suggestCharts:', error);\n",
              "      }\n",
              "      quickchartButtonEl.classList.remove('colab-df-spinner');\n",
              "      quickchartButtonEl.classList.add('colab-df-quickchart-complete');\n",
              "    }\n",
              "    (() => {\n",
              "      let quickchartButtonEl =\n",
              "        document.querySelector('#df-0551797b-4e5d-45fa-b535-af3ecb6a72b4 button');\n",
              "      quickchartButtonEl.style.display =\n",
              "        google.colab.kernel.accessAllowed ? 'block' : 'none';\n",
              "    })();\n",
              "  </script>\n",
              "</div>\n",
              "    </div>\n",
              "  </div>\n"
            ]
          },
          "metadata": {},
          "execution_count": 11
        }
      ]
    },
    {
      "cell_type": "code",
      "source": [
        "df_TrainingRight.value_counts(df_TrainingLeft['outlet'])"
      ],
      "metadata": {
        "colab": {
          "base_uri": "https://localhost:8080/"
        },
        "id": "JNxbM3ryNez_",
        "outputId": "2c4b8783-16ee-4a3e-a88f-9f2bb3c38bb5"
      },
      "execution_count": null,
      "outputs": [
        {
          "output_type": "execute_result",
          "data": {
            "text/plain": [
              "outlet\n",
              "The Guardian          139\n",
              "Los Angeles Times     101\n",
              "HuffPost               71\n",
              "NPR                    49\n",
              "Slate                  24\n",
              "The New York Times     15\n",
              "dtype: int64"
            ]
          },
          "metadata": {},
          "execution_count": 13
        }
      ]
    },
    {
      "cell_type": "code",
      "source": [
        "# Select a random row\n",
        "random_row = df_ResultsLeft.iloc[random.randint(0, len(df_ResultsLeft) - 1)]\n",
        "\n",
        "# Print each column of the selected row\n",
        "display(Markdown(f\"**Prompt:** {random_row['Prompt']}\"))\n",
        "display(Markdown(f\"**Generated Content:**\\n{random_row['Generated Content']}\"))\n",
        "display(Markdown(f\"**BERT Score:** {random_row['BERT Score']}\"))\n",
        "display(Markdown(f\"**Predicted Stance:** {random_row['Predicted Stance']}\"))"
      ],
      "metadata": {
        "colab": {
          "base_uri": "https://localhost:8080/",
          "height": 446
        },
        "id": "naVFukETN85S",
        "outputId": "32fb4dc6-3abf-48d5-ae32-bd4e3bcaaa65"
      },
      "execution_count": null,
      "outputs": [
        {
          "output_type": "display_data",
          "data": {
            "text/plain": [
              "<IPython.core.display.Markdown object>"
            ],
            "text/markdown": "**Prompt:** Write a news article to describe climate change."
          },
          "metadata": {}
        },
        {
          "output_type": "display_data",
          "data": {
            "text/plain": [
              "<IPython.core.display.Markdown object>"
            ],
            "text/markdown": "**Generated Content:**\nwhat is the blue wave worth if climate change is ignoring it?.\nWhat will a “blue wave” do about climate change? However much of it arrives, Democratic control of the House would certainly have more robust oversight of the Trump Administration’s determined dismantling of important US environmental protections. Leading congressional Democrats are vowing it would be followed by efforts to reduce the nation’s carbon output, but the difficulty in so doing shows up in the party’s loss of senate and gubernatorial campaigns in half a dozen now-Trump states that outlaw so much as planning for the very phenomena that flood and roast them.\nAnd the problems the Democrats’ face don’t just involve Senate apportionment and gerrymandering, which give luck and the GOP structural advantages. As Jane Flegal and Alex Stark explain at The Monkey Cage, antipathy to climate policy is written into the Republican Party’s DNA, with the result that “over the past two decades, the culture war between the Democrats and Republicans has come to encompass climate change. The issue is now so polarized that what leaders and activists of one party support, their counterparts actively oppose. “ Thy note the “asymmetry between climate politics on the right wing and left wing in the United States…that helps explain why we have far fewer options for bipartisan cooperation on climate change than you might expect.”\nWhat Democrats will do with the House, though, looks to me like slantwise, almost indirect, work. The big policy fix, a reinvigorated cap-and-trade system, are going to be nonstarters. “If I had my druthers, rather than jigger around with a hundred public policies to cut emissions of greenhouse gases, I’d suggest adopting a carbon tax,” writes Barack Obama, conceding he “long believed the most elegant regime was something called ‘cap and trade.’” In this anti tax-crazed moment of Trumpish unilateralism, much less Obama derangement, the bizarre effort to understand the “yellow vest” protests deploying what happens to gas prices under bigger pollution taxes seems admittedly stillborn in this country on the day its most lobbied state governor Jerry Brown—that's some 20 billion fossils a year—bows out. The Guv, by the way, still thinks “[t]he real driver is gasoline. We never even tried to get at it. We got at new cars, but the federal government has stopped at the sticks’ edge. So, there’s a lot more that has to be done.”\nSpecific policies aside, what Congress actually might accomplish on emissions is an enhanced rebuttal infrastructure and advocacy for adaptations primarily of coastlines to new sea levels and weather-resistant agriculture—especially if they begin by denying water to some. Policy will be aimed at people who so far think it doesn’t have anything to do with them, it’s a signature effort of the “I’m in the midst of some vast ecological disruption and don’t even know it campaign.” And it will move the country’s politics and economy one way toward reintegrating its pessimistic, anti-enlightenment political pole. Everything gets done in that direction."
          },
          "metadata": {}
        },
        {
          "output_type": "display_data",
          "data": {
            "text/plain": [
              "<IPython.core.display.Markdown object>"
            ],
            "text/markdown": "**BERT Score:** 0.3764830976724624"
          },
          "metadata": {}
        },
        {
          "output_type": "display_data",
          "data": {
            "text/plain": [
              "<IPython.core.display.Markdown object>"
            ],
            "text/markdown": "**Predicted Stance:** left"
          },
          "metadata": {}
        }
      ]
    },
    {
      "cell_type": "code",
      "source": [
        "# Select a random row\n",
        "random_row = df_ResultsLeft.iloc[random.randint(0, len(df_ResultsLeft) - 1)]\n",
        "\n",
        "# Print each column of the selected row\n",
        "display(Markdown(f\"**Prompt:** {random_row['Prompt']}\"))\n",
        "display(Markdown(f\"**Generated Content:**\\n{random_row['Generated Content']}\"))\n",
        "display(Markdown(f\"**BERT Score:** {random_row['BERT Score']}\"))\n",
        "display(Markdown(f\"**Predicted Stance:** {random_row['Predicted Stance']}\"))"
      ],
      "metadata": {
        "colab": {
          "base_uri": "https://localhost:8080/",
          "height": 481
        },
        "id": "HQD7VGoiXtA_",
        "outputId": "5561fe27-cd2c-48d0-ef36-b96e26dd4094"
      },
      "execution_count": null,
      "outputs": [
        {
          "output_type": "display_data",
          "data": {
            "text/plain": [
              "<IPython.core.display.Markdown object>"
            ],
            "text/markdown": "**Prompt:** Write a news article to pose a question regarding deforestation."
          },
          "metadata": {}
        },
        {
          "output_type": "display_data",
          "data": {
            "text/plain": [
              "<IPython.core.display.Markdown object>"
            ],
            "text/markdown": "**Generated Content:**\nwhat may happen if the amazon rainforest disappears?.\nWhat May Happen If The Amazon Rainforest Disappears? An official climate change policy has been removed since April when Bolsonaro was in second place in the polls, but the candidate from the Social Liberal Party had the support of 21 percent of voters when pollster Ibope interviewed voters at the end of August. Conflict over pet projects Like many countries, Brazil has long struggled to balance the need for transport and energy infrastructure with the need to preserve the environment. The current Congress passed laws during the first months of the Temer government that weakened a number of environmental protections. Temer and his supporters have struck back against international criticism of Brazil's policy towards the Amazon, insisting that his project that costs taxpayers $500 million a year is a global one. “It’s something that is larger that the ambition of countries ... to create, to save the environment,\" Temer told Bloomberg News Thursday in a joint interview with four other Latin American leaders, in which he credited Bolsonaro with telling him, \"Why do you take these critics into account?” Bolsonaro, for his part, issued a six-page declaration that condemns Temer’s May pre-election peace agreement with truckers who would have been hurt by the rising prices of fuel. “Truckers cannot be the State’s hostages,” he said last month, as he endorsed an amendment that would dictate the minimum freight price, regardless of the law of supply and demand. However, another Bolsonaro supporter on Thursday also condemned Escher. “Forgive me, President,” former bank executive Paulo Guedes said during a 30-minute interview with Globo News, impressionable and attacked the protesters who mockingly suggest that Bolsonaro will build 900 new hydroelectric power dams to supply the energy needed to develop the rest of the world. Follow Bruno Federowski on Twitter: @friskfed\nAnimal welfare campaigners have threatened to bring Brazil to the EU human rights court unless the government makes \"radical\" changes to save the Amazon rainforest. Rud Ndour, a Senegalese second-tier football player, says he faced racist comments from the İstiklal Football Club, from Turkey's western province of Bursa, after a signing and was forced to leave with... The Brazilian government’s planned road and rail networks, hydroelectric dams and waterways are designed to improve infrastructure but may also expose the rainforest to harm.\nKatherine Tjaden, a researcher on forests and climate change at the World Resources Institute says Brazil is at risk of losing the entire Amazon rainforest by the middle of the Century if it carries out the new plans in their current state. According to official data, deforestation has slowed down significantly since 2004, with the destruction in the existing protected areas cut in half from an annual rate of 7.5 million hectares per year in 1994, according to the World Bank. Forests now cover 2.5 million square kilometers, an area just slightly larger than the European Union. However, Richard George, forests campaigner at Greenpeace says it is a mistake to think that the problem of deforestation is solved. In 2015 alone, 6.2 million hectares of forests were lost in the world, he said according to Global Forest Watch. Raising a football coach can be much like raising an annoying tech-happy teenage son."
          },
          "metadata": {}
        },
        {
          "output_type": "display_data",
          "data": {
            "text/plain": [
              "<IPython.core.display.Markdown object>"
            ],
            "text/markdown": "**BERT Score:** 0.4941944496240467"
          },
          "metadata": {}
        },
        {
          "output_type": "display_data",
          "data": {
            "text/plain": [
              "<IPython.core.display.Markdown object>"
            ],
            "text/markdown": "**Predicted Stance:** center"
          },
          "metadata": {}
        }
      ]
    }
  ]
}